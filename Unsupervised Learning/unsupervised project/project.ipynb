{
 "cells": [
  {
   "cell_type": "code",
   "execution_count": 13,
   "metadata": {},
   "outputs": [],
   "source": [
    "import pandas as pd\n",
    "import numpy as np\n",
    "from pca import PCA\n",
    "from fuzzy_entropy import FuzzyEntropy\n",
    "import matplotlib.pyplot as plt"
   ]
  },
  {
   "cell_type": "code",
   "execution_count": 14,
   "metadata": {},
   "outputs": [],
   "source": [
    "n_components=1\n",
    "similarity = 0.5"
   ]
  },
  {
   "cell_type": "code",
   "execution_count": 15,
   "metadata": {},
   "outputs": [
    {
     "data": {
      "text/html": [
       "<div>\n",
       "<style scoped>\n",
       "    .dataframe tbody tr th:only-of-type {\n",
       "        vertical-align: middle;\n",
       "    }\n",
       "\n",
       "    .dataframe tbody tr th {\n",
       "        vertical-align: top;\n",
       "    }\n",
       "\n",
       "    .dataframe thead th {\n",
       "        text-align: right;\n",
       "    }\n",
       "</style>\n",
       "<table border=\"1\" class=\"dataframe\">\n",
       "  <thead>\n",
       "    <tr style=\"text-align: right;\">\n",
       "      <th></th>\n",
       "      <th>child_mort</th>\n",
       "      <th>exports</th>\n",
       "      <th>health</th>\n",
       "      <th>imports</th>\n",
       "      <th>income</th>\n",
       "      <th>inflation</th>\n",
       "      <th>life_expec</th>\n",
       "      <th>total_fer</th>\n",
       "      <th>gdpp</th>\n",
       "    </tr>\n",
       "  </thead>\n",
       "  <tbody>\n",
       "    <tr>\n",
       "      <th>0</th>\n",
       "      <td>90.2</td>\n",
       "      <td>10.0</td>\n",
       "      <td>7.58</td>\n",
       "      <td>44.9</td>\n",
       "      <td>1610</td>\n",
       "      <td>9.44</td>\n",
       "      <td>56.2</td>\n",
       "      <td>5.82</td>\n",
       "      <td>553</td>\n",
       "    </tr>\n",
       "    <tr>\n",
       "      <th>1</th>\n",
       "      <td>16.6</td>\n",
       "      <td>28.0</td>\n",
       "      <td>6.55</td>\n",
       "      <td>48.6</td>\n",
       "      <td>9930</td>\n",
       "      <td>4.49</td>\n",
       "      <td>76.3</td>\n",
       "      <td>1.65</td>\n",
       "      <td>4090</td>\n",
       "    </tr>\n",
       "    <tr>\n",
       "      <th>2</th>\n",
       "      <td>27.3</td>\n",
       "      <td>38.4</td>\n",
       "      <td>4.17</td>\n",
       "      <td>31.4</td>\n",
       "      <td>12900</td>\n",
       "      <td>16.10</td>\n",
       "      <td>76.5</td>\n",
       "      <td>2.89</td>\n",
       "      <td>4460</td>\n",
       "    </tr>\n",
       "    <tr>\n",
       "      <th>3</th>\n",
       "      <td>119.0</td>\n",
       "      <td>62.3</td>\n",
       "      <td>2.85</td>\n",
       "      <td>42.9</td>\n",
       "      <td>5900</td>\n",
       "      <td>22.40</td>\n",
       "      <td>60.1</td>\n",
       "      <td>6.16</td>\n",
       "      <td>3530</td>\n",
       "    </tr>\n",
       "    <tr>\n",
       "      <th>4</th>\n",
       "      <td>10.3</td>\n",
       "      <td>45.5</td>\n",
       "      <td>6.03</td>\n",
       "      <td>58.9</td>\n",
       "      <td>19100</td>\n",
       "      <td>1.44</td>\n",
       "      <td>76.8</td>\n",
       "      <td>2.13</td>\n",
       "      <td>12200</td>\n",
       "    </tr>\n",
       "  </tbody>\n",
       "</table>\n",
       "</div>"
      ],
      "text/plain": [
       "   child_mort  exports  health  imports  income  inflation  life_expec  \\\n",
       "0        90.2     10.0    7.58     44.9    1610       9.44        56.2   \n",
       "1        16.6     28.0    6.55     48.6    9930       4.49        76.3   \n",
       "2        27.3     38.4    4.17     31.4   12900      16.10        76.5   \n",
       "3       119.0     62.3    2.85     42.9    5900      22.40        60.1   \n",
       "4        10.3     45.5    6.03     58.9   19100       1.44        76.8   \n",
       "\n",
       "   total_fer   gdpp  \n",
       "0       5.82    553  \n",
       "1       1.65   4090  \n",
       "2       2.89   4460  \n",
       "3       6.16   3530  \n",
       "4       2.13  12200  "
      ]
     },
     "execution_count": 15,
     "metadata": {},
     "output_type": "execute_result"
    }
   ],
   "source": [
    "dataframe = pd.read_excel(\"Book1.xlsx\")\n",
    "data = dataframe.to_numpy()\n",
    "dataframe.head()"
   ]
  },
  {
   "cell_type": "code",
   "execution_count": 16,
   "metadata": {},
   "outputs": [],
   "source": [
    "data = data[:,:]"
   ]
  },
  {
   "cell_type": "code",
   "execution_count": 17,
   "metadata": {},
   "outputs": [],
   "source": [
    "class Converter:\n",
    "    @staticmethod\n",
    "    def convert_to_array(data_dict):\n",
    "        data = []\n",
    "        for key, value in data_dict.items():\n",
    "            data=[key]\n",
    "            data.extend(value)\n",
    "        data= np.array(data)\n",
    "        return data\n"
   ]
  },
  {
   "cell_type": "code",
   "execution_count": 18,
   "metadata": {},
   "outputs": [],
   "source": [
    "def show(info,dim):\n",
    "    f_data =[]\n",
    "    colors= [\"green\", \"red\", \"blue\",\"yellow\",\"orange\",\"black\",\"purple\"]\n",
    "    if dim <=3:\n",
    "        if dim ==3:\n",
    "            fig = plt.figure()\n",
    "            ax = fig.add_subplot(111, projection='3d')\n",
    "\n",
    "        for i,data_dic in enumerate(info.values()):\n",
    "            final_data=Converter.convert_to_array(data_dic)\n",
    "            if len(final_data) > len(f_data):\n",
    "                f_data = final_data.copy()\n",
    "            print(\"f data: \",len(f_data))\n",
    "\n",
    "            if dim ==1:\n",
    "                plt.scatter(range(len(final_data[:,0])),final_data[:,0],c=colors[i])\n",
    "            elif dim ==2:\n",
    "                plt.scatter(final_data[:,0],final_data[:,1],c=colors[i])\n",
    "            else:\n",
    "                \n",
    "                x = final_data[:,0]\n",
    "                y = final_data[:,1]\n",
    "                z = final_data[:,2]\n",
    "                if i%7==0:\n",
    "                    i= i-1\n",
    "                ax.scatter(x, y, z, c=colors[i], marker='o')\n",
    "        plt.show()\n",
    "        return f_data\n"
   ]
  },
  {
   "cell_type": "code",
   "execution_count": null,
   "metadata": {},
   "outputs": [],
   "source": []
  },
  {
   "cell_type": "code",
   "execution_count": 19,
   "metadata": {},
   "outputs": [],
   "source": [
    "f_data=None"
   ]
  },
  {
   "cell_type": "code",
   "execution_count": 20,
   "metadata": {},
   "outputs": [
    {
     "name": "stdout",
     "output_type": "stream",
     "text": [
      "eigen function\n"
     ]
    }
   ],
   "source": [
    "pca = PCA(n_components=9)\n",
    "pca.fit(data)\n",
    "reduced_data = pca.transform(data)\n",
    "# model = FuzzyEntropy()\n",
    "# info =model.fit(reduced_data,s=similarity)\n",
    "\n",
    "#Reduced To:  5 , Number of Classes:  2\n",
    "# [4407.65986488   49.5632381  -375.77007066  278.51072448 1068.77329766]\n",
    "# actual:\n",
    "#  [  90.2    10.      7.58   44.9  1610.  ]"
   ]
  },
  {
   "cell_type": "code",
   "execution_count": 21,
   "metadata": {},
   "outputs": [
    {
     "data": {
      "text/plain": [
       "(array([  52.22450263,   50.178187  ,    7.58642116,   44.913543  ,\n",
       "        1609.97930311,    9.43782266,   56.19367195,    5.81202308,\n",
       "         553.00048821]),\n",
       " array([  90.2 ,   10.  ,    7.58,   44.9 , 1610.  ,    9.44,   56.2 ,\n",
       "           5.82,  553.  ]))"
      ]
     },
     "execution_count": 21,
     "metadata": {},
     "output_type": "execute_result"
    }
   ],
   "source": [
    "compoentn = pca.components.T[:8]\n",
    "(np.dot(np.dot(data[0],compoentn.T),compoentn)\n",
    ",data[0])"
   ]
  },
  {
   "cell_type": "code",
   "execution_count": 22,
   "metadata": {},
   "outputs": [
    {
     "data": {
      "text/plain": [
       "2.94111761"
      ]
     },
     "execution_count": 22,
     "metadata": {},
     "output_type": "execute_result"
    }
   ],
   "source": [
    "2.94111761e+00"
   ]
  },
  {
   "cell_type": "code",
   "execution_count": 23,
   "metadata": {},
   "outputs": [
    {
     "name": "stdout",
     "output_type": "stream",
     "text": [
      "eigen function\n"
     ]
    },
    {
     "name": "stdout",
     "output_type": "stream",
     "text": [
      "Reduced To:  1 , Number of Classes:  5\n",
      "[  54.26736157   30.97654814    6.31491266   44.62366416 2744.10861662\n",
      "    9.29966847   66.31822287    3.51854619 -646.95041244]\n"
     ]
    },
    {
     "ename": "ValueError",
     "evalue": "setting an array element with a sequence. The requested array has an inhomogeneous shape after 1 dimensions. The detected shape was (2,) + inhomogeneous part.",
     "output_type": "error",
     "traceback": [
      "\u001b[1;31m---------------------------------------------------------------------------\u001b[0m",
      "\u001b[1;31mValueError\u001b[0m                                Traceback (most recent call last)",
      "Cell \u001b[1;32mIn[23], line 9\u001b[0m\n\u001b[0;32m      7\u001b[0m \u001b[38;5;28mprint\u001b[39m(\u001b[38;5;124m\"\u001b[39m\u001b[38;5;124mReduced To: \u001b[39m\u001b[38;5;124m\"\u001b[39m,reduced_data\u001b[38;5;241m.\u001b[39mshape[\u001b[38;5;241m1\u001b[39m],\u001b[38;5;124m\"\u001b[39m\u001b[38;5;124m, Number of Classes: \u001b[39m\u001b[38;5;124m\"\u001b[39m,\u001b[38;5;28mlen\u001b[39m(info))\n\u001b[0;32m      8\u001b[0m \u001b[38;5;28mprint\u001b[39m(pca\u001b[38;5;241m.\u001b[39mreverse(reduced_data)[\u001b[38;5;241m0\u001b[39m])\n\u001b[1;32m----> 9\u001b[0m f_data \u001b[38;5;241m=\u001b[39mshow(info,dim\u001b[38;5;241m=\u001b[39mt\u001b[38;5;241m+\u001b[39m\u001b[38;5;241m1\u001b[39m)\n",
      "Cell \u001b[1;32mIn[18], line 10\u001b[0m, in \u001b[0;36mshow\u001b[1;34m(info, dim)\u001b[0m\n\u001b[0;32m      7\u001b[0m     ax \u001b[38;5;241m=\u001b[39m fig\u001b[38;5;241m.\u001b[39madd_subplot(\u001b[38;5;241m111\u001b[39m, projection\u001b[38;5;241m=\u001b[39m\u001b[38;5;124m'\u001b[39m\u001b[38;5;124m3d\u001b[39m\u001b[38;5;124m'\u001b[39m)\n\u001b[0;32m      9\u001b[0m \u001b[38;5;28;01mfor\u001b[39;00m i,data_dic \u001b[38;5;129;01min\u001b[39;00m \u001b[38;5;28menumerate\u001b[39m(info\u001b[38;5;241m.\u001b[39mvalues()):\n\u001b[1;32m---> 10\u001b[0m     final_data\u001b[38;5;241m=\u001b[39mConverter\u001b[38;5;241m.\u001b[39mconvert_to_array(data_dic)\n\u001b[0;32m     11\u001b[0m     \u001b[38;5;28;01mif\u001b[39;00m \u001b[38;5;28mlen\u001b[39m(final_data) \u001b[38;5;241m>\u001b[39m \u001b[38;5;28mlen\u001b[39m(f_data):\n\u001b[0;32m     12\u001b[0m         f_data \u001b[38;5;241m=\u001b[39m final_data\u001b[38;5;241m.\u001b[39mcopy()\n",
      "Cell \u001b[1;32mIn[17], line 8\u001b[0m, in \u001b[0;36mConverter.convert_to_array\u001b[1;34m(data_dict)\u001b[0m\n\u001b[0;32m      6\u001b[0m     data\u001b[38;5;241m=\u001b[39m[key]\n\u001b[0;32m      7\u001b[0m     data\u001b[38;5;241m.\u001b[39mextend(value)\n\u001b[1;32m----> 8\u001b[0m data\u001b[38;5;241m=\u001b[39m np\u001b[38;5;241m.\u001b[39marray(data)\n\u001b[0;32m      9\u001b[0m \u001b[38;5;28;01mreturn\u001b[39;00m data\n",
      "\u001b[1;31mValueError\u001b[0m: setting an array element with a sequence. The requested array has an inhomogeneous shape after 1 dimensions. The detected shape was (2,) + inhomogeneous part."
     ]
    }
   ],
   "source": [
    "for t in range(3):\n",
    "    pca = PCA(n_components=t+1)\n",
    "    pca.fit(data)\n",
    "    reduced_data = pca.transform(data)\n",
    "    model = FuzzyEntropy()\n",
    "    info =model.fit(reduced_data,s=similarity)\n",
    "    print(\"Reduced To: \",reduced_data.shape[1],\", Number of Classes: \",len(info))\n",
    "    print(pca.reverse(reduced_data)[0])\n",
    "    f_data =show(info,dim=t+1)\n",
    "    # [90.04991964 17.45184144  6.24345231 32.31991784]\n",
    "\n"
   ]
  },
  {
   "cell_type": "code",
   "execution_count": null,
   "metadata": {},
   "outputs": [
    {
     "data": {
      "text/plain": [
       "126"
      ]
     },
     "execution_count": 12,
     "metadata": {},
     "output_type": "execute_result"
    }
   ],
   "source": [
    "len(f_data)"
   ]
  },
  {
   "cell_type": "code",
   "execution_count": null,
   "metadata": {},
   "outputs": [],
   "source": []
  }
 ],
 "metadata": {
  "kernelspec": {
   "display_name": "base",
   "language": "python",
   "name": "python3"
  },
  "language_info": {
   "codemirror_mode": {
    "name": "ipython",
    "version": 3
   },
   "file_extension": ".py",
   "mimetype": "text/x-python",
   "name": "python",
   "nbconvert_exporter": "python",
   "pygments_lexer": "ipython3",
   "version": "3.11.7"
  }
 },
 "nbformat": 4,
 "nbformat_minor": 2
}
