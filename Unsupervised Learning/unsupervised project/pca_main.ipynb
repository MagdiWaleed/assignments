{
 "cells": [
  {
   "cell_type": "code",
   "execution_count": 1,
   "metadata": {},
   "outputs": [],
   "source": [
    "import pandas as pd\n",
    "import numpy as np\n",
    "from pca import PCA\n",
    "import matplotlib.pyplot as plt\n",
    "import seaborn as sns"
   ]
  },
  {
   "cell_type": "code",
   "execution_count": 2,
   "metadata": {},
   "outputs": [
    {
     "data": {
      "text/html": [
       "<div>\n",
       "<style scoped>\n",
       "    .dataframe tbody tr th:only-of-type {\n",
       "        vertical-align: middle;\n",
       "    }\n",
       "\n",
       "    .dataframe tbody tr th {\n",
       "        vertical-align: top;\n",
       "    }\n",
       "\n",
       "    .dataframe thead th {\n",
       "        text-align: right;\n",
       "    }\n",
       "</style>\n",
       "<table border=\"1\" class=\"dataframe\">\n",
       "  <thead>\n",
       "    <tr style=\"text-align: right;\">\n",
       "      <th></th>\n",
       "      <th>child_mort</th>\n",
       "      <th>exports</th>\n",
       "      <th>health</th>\n",
       "      <th>imports</th>\n",
       "      <th>income</th>\n",
       "      <th>inflation</th>\n",
       "      <th>life_expec</th>\n",
       "      <th>total_fer</th>\n",
       "      <th>gdpp</th>\n",
       "    </tr>\n",
       "  </thead>\n",
       "  <tbody>\n",
       "    <tr>\n",
       "      <th>0</th>\n",
       "      <td>90.2</td>\n",
       "      <td>10.0</td>\n",
       "      <td>7.58</td>\n",
       "      <td>44.9</td>\n",
       "      <td>1610</td>\n",
       "      <td>9.44</td>\n",
       "      <td>56.2</td>\n",
       "      <td>5.82</td>\n",
       "      <td>553</td>\n",
       "    </tr>\n",
       "  </tbody>\n",
       "</table>\n",
       "</div>"
      ],
      "text/plain": [
       "   child_mort  exports  health  imports  income  inflation  life_expec  \\\n",
       "0        90.2     10.0    7.58     44.9    1610       9.44        56.2   \n",
       "\n",
       "   total_fer  gdpp  \n",
       "0       5.82   553  "
      ]
     },
     "execution_count": 2,
     "metadata": {},
     "output_type": "execute_result"
    }
   ],
   "source": [
    "dataframe = pd.read_excel(\"Book1.xlsx\")\n",
    "data = dataframe.to_numpy()\n",
    "dataframe.head(1)"
   ]
  },
  {
   "cell_type": "code",
   "execution_count": 3,
   "metadata": {},
   "outputs": [],
   "source": [
    "def cosine_similarity(matrix1, matrix2):\n",
    "    result = 0\n",
    "    for index in range(len(matrix1)):\n",
    "            dot_product = np.dot(matrix1[index], matrix2[index])\n",
    "            norm_vec1 = np.linalg.norm(matrix1[index])\n",
    "            norm_vec2 = np.linalg.norm(matrix2[index])\n",
    "            cosine =  dot_product / (norm_vec1 * norm_vec2) \n",
    "            if cosine== 0: \n",
    "                  print(\"cosine is equal to zero\")\n",
    "            result +=cosine\n",
    "\n",
    "    result/= len(matrix1) \n",
    "    return result\n",
    "def info(data,reversed_data):\n",
    "      print(\"cosine similiarity for data:\\n\",cosine_similarity(data,reversed_data),\"\\nMean Squared Error for data:\\n\",round(np.mean((data - reversed_data)**2),9))\n",
    "      return round(np.mean((data - reversed_data)**2),9)\n"
   ]
  },
  {
   "cell_type": "code",
   "execution_count": 4,
   "metadata": {},
   "outputs": [
    {
     "name": "stdout",
     "output_type": "stream",
     "text": [
      "cosine similiarity for data:\n",
      " 0.9454571529272258 \n",
      "Mean Squared Error for data:\n",
      " 4069820.677375702\n"
     ]
    },
    {
     "data": {
      "text/plain": [
       "4069820.677375702"
      ]
     },
     "execution_count": 4,
     "metadata": {},
     "output_type": "execute_result"
    }
   ],
   "source": [
    "pca = PCA(n_components=1)\n",
    "pca.fit(data)\n",
    "reduced_data = pca.transform(data)\n",
    "reversed_data = pca.reverse(reduced_data)\n",
    "info(data,reversed_data)"
   ]
  },
  {
   "cell_type": "code",
   "execution_count": 5,
   "metadata": {},
   "outputs": [
    {
     "data": {
      "text/plain": [
       "(array([  90.2 ,   10.  ,    7.58,   44.9 , 1610.  ,    9.44,   56.2 ,\n",
       "           5.82,  553.  ]),\n",
       " array([  54.26736157,   30.97654814,    6.31491266,   44.62366416,\n",
       "        2744.10861662,    9.29966847,   66.31822287,    3.51854619,\n",
       "        -646.95041244]))"
      ]
     },
     "execution_count": 5,
     "metadata": {},
     "output_type": "execute_result"
    }
   ],
   "source": [
    "data[0],reversed_data[0]"
   ]
  },
  {
   "cell_type": "code",
   "execution_count": 6,
   "metadata": {},
   "outputs": [],
   "source": [
    "eig_values = pca.eigen_values"
   ]
  },
  {
   "cell_type": "code",
   "execution_count": 7,
   "metadata": {},
   "outputs": [],
   "source": [
    "def variance(eig_values):\n",
    "    result = eig_values / eig_values.sum()\n",
    "    return result"
   ]
  },
  {
   "cell_type": "code",
   "execution_count": 8,
   "metadata": {},
   "outputs": [
    {
     "data": {
      "text/plain": [
       "array([9.47923065e-01, 5.20734600e-02, 1.76794667e-06, 1.38689143e-06,\n",
       "       1.90998382e-07, 1.03865256e-07, 1.82060941e-08, 5.98917170e-09,\n",
       "       8.64921244e-10])"
      ]
     },
     "execution_count": 8,
     "metadata": {},
     "output_type": "execute_result"
    }
   ],
   "source": [
    "variance(eig_values)"
   ]
  },
  {
   "cell_type": "code",
   "execution_count": 9,
   "metadata": {},
   "outputs": [
    {
     "name": "stdout",
     "output_type": "stream",
     "text": [
      "cosine similiarity for data:\n",
      " 0.9454571529272258 \n",
      "Mean Squared Error for data:\n",
      " 4069820.677375702\n",
      "cosine similiarity for data:\n",
      " 0.9997878560678457 \n",
      "Mean Squared Error for data:\n",
      " 271.553193359\n",
      "cosine similiarity for data:\n",
      " 0.9999503718206387 \n",
      "Mean Squared Error for data:\n",
      " 133.387881984\n",
      "cosine similiarity for data:\n",
      " 0.9999819694978375 \n",
      "Mean Squared Error for data:\n",
      " 25.002097448\n",
      "cosine similiarity for data:\n",
      " 0.9999937181178694 \n",
      "Mean Squared Error for data:\n",
      " 10.075543726\n",
      "cosine similiarity for data:\n",
      " 0.9999986311438444 \n",
      "Mean Squared Error for data:\n",
      " 1.958457579\n",
      "cosine similiarity for data:\n",
      " 0.9999995363678024 \n",
      "Mean Squared Error for data:\n",
      " 0.535648447\n",
      "cosine similiarity for data:\n",
      " 0.9999999105637879 \n",
      "Mean Squared Error for data:\n",
      " 0.067593732\n"
     ]
    }
   ],
   "source": [
    "mse_list = []\n",
    "for i in range(1,9):\n",
    "    pca = PCA(n_components=i)\n",
    "    pca.fit(data)\n",
    "    trans_data = pca.transform(data)\n",
    "    rev_data = pca.reverse(trans_data)\n",
    "    var = variance(pca.eigen_values)\n",
    "    mse = info(data, rev_data)\n",
    "    mse_list.append(mse)"
   ]
  },
  {
   "cell_type": "code",
   "execution_count": 10,
   "metadata": {},
   "outputs": [
    {
     "data": {
      "image/png": "[encoded data removed]",
      "text/plain": [
       "<Figure size 1000x600 with 1 Axes>"
      ]
     },
     "metadata": {},
     "output_type": "display_data"
    }
   ],
   "source": [
    "plt.figure(figsize=(10,6))\n",
    "sns.lineplot(mse_list)\n",
    "plt.xlabel('number of components')\n",
    "plt.ylabel('MSE')s\n",
    "plt.title('MSE for PCA')\n",
    "plt.show()"
   ]
  },
  {
   "cell_type": "code",
   "execution_count": null,
   "metadata": {},
   "outputs": [],
   "source": []
  }
 ],
 "metadata": {
  "kernelspec": {
   "display_name": "Python 3",
   "language": "python",
   "name": "python3"
  },
  "language_info": {
   "codemirror_mode": {
    "name": "ipython",
    "version": 3
   },
   "file_extension": ".py",
   "mimetype": "text/x-python",
   "name": "python",
   "nbconvert_exporter": "python",
   "pygments_lexer": "ipython3",
   "version": "3.11.3"
  }
 },
 "nbformat": 4,
 "nbformat_minor": 2
}
