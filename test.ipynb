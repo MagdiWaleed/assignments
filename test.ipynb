{
 "cells": [
  {
   "cell_type": "code",
   "execution_count": 15,
   "metadata": {},
   "outputs": [],
   "source": [
    "import numpy as np"
   ]
  },
  {
   "cell_type": "code",
   "execution_count": 16,
   "metadata": {},
   "outputs": [],
   "source": [
    "cofficients = [1,-8/3,0]"
   ]
  },
  {
   "cell_type": "markdown",
   "metadata": {},
   "source": [
    "<span style=\"background-color:green\">X**2 - x*10/3 +0=0<span>\n",
    "<br>\n",
    "(x=0), (x=10/3)"
   ]
  },
  {
   "cell_type": "code",
   "execution_count": 31,
   "metadata": {},
   "outputs": [
    {
     "data": {
      "text/plain": [
       "(array([[10.2, 10.6],\n",
       "        [10.6, 32.6]]),\n",
       " [5.97923477903901, 36.8207652209610],\n",
       " [{x1: 0.0, x2: 0.0}, {x1: 0.0, x2: 0.0}])"
      ]
     },
     "execution_count": 31,
     "metadata": {},
     "output_type": "execute_result"
    }
   ],
   "source": [
    "from sympy import symbols, Eq, solve, Matrix, re, simplify\n",
    "\n",
    "def get_Eigens(matrix):\n",
    "\n",
    "    def calc_determinant(matrix,depth=0):\n",
    "        if matrix.shape ==(2,2):\n",
    "            return matrix[0][0]*matrix[1][1] - matrix[0][1]*matrix[1][0]\n",
    "        else:# if the shape is (3,3) or higher\n",
    "            result=0\n",
    "            for i in range(len(matrix)):\n",
    "                helper = np.delete(matrix,i,axis=1)\n",
    "                helper = np.delete(helper,0,axis=0)\n",
    "                result+= (-1)**i * matrix[0][i]* calc_determinant(helper,depth+1)\n",
    "            return result\n",
    "    def calc_eigenvalue(result):\n",
    "        # print(result)\n",
    "        determinant = calc_determinant(result)\n",
    "        # print(determinant)\n",
    "        equation = Eq(determinant,0)\n",
    "        return solve(equation,y)\n",
    "    \n",
    "    def calc_eigenvector(result, eigenvalues):\n",
    "        eigenvectors = []\n",
    "        for eigenvalue in eigenvalues:\n",
    "            temp = result.copy()\n",
    "            temp = np.array([[t.subs(y,eigenvalue) for t in row] for row in temp ])\n",
    "            # print(\"array: \", temp)\n",
    "        \n",
    "            A = Matrix(temp)\n",
    "            # print(\"Eigen value: \",eigenvalue,\" \\n\\n\\n\")\n",
    "            # print(A)\n",
    "            x_symbols= ''\n",
    "            for i in range(np.array(A).shape[0]):\n",
    "                if i+1!=np.array(A).shape[0]:\n",
    "                    x_symbols+=\"x\"+str(i+1)+\" \"\n",
    "                else:\n",
    "                    x_symbols+=\"x\"+str(i+1)\n",
    "            x = Matrix(symbols(x_symbols))\n",
    "            eq = A *x\n",
    "            # print(eq)\n",
    "            solution = solve(eq, x)\n",
    "            eigenvectors.append(solution)\n",
    "        return eigenvectors\n",
    "        \n",
    "    y = symbols('y')\n",
    "    idintity_matrix = np.zeros(matrix.shape);np.fill_diagonal(idintity_matrix,1)\n",
    "    result =  y*idintity_matrix -matrix\n",
    "    # print(result)\n",
    "    eigenvalues = calc_eigenvalue(result)\n",
    "    eigenvalues = [re(eigenvalue) for eigenvalue in eigenvalues]\n",
    "    # print(\"eigenvalues: \",eigenvalues)\n",
    "    eigenvectors =calc_eigenvector(result,eigenvalues)\n",
    "    return eigenvalues,eigenvectors\n",
    "    \n",
    "# # Define the variable\n",
    "\n",
    "\n",
    "# # Define the cubic equation\n",
    "# equation = Eq(x**2 - (10*x)/3 + 0, 0)  # Example: x^3 - 6x^2 + 11x - 6 = 0\n",
    "\n",
    "# # Solve the equation\n",
    "# roots = solve(equation, x)\n",
    "\n",
    "# print(\"The roots of the cubic equation are:\", roots)\n",
    "def covariance(values):\n",
    "        return np.dot(values.T,values)/len(values)\n",
    "\n",
    "# data =np.array( [\n",
    "# [1616.68365449, -349.54543245],\n",
    "#  [-349.54543245,  746.91878758],\n",
    "#  ])\n",
    "data = np.array([\n",
    "    [1,7],\n",
    "    [5,3],\n",
    "    [3,5],\n",
    "    [0,8],\n",
    "    [4,4]\n",
    "])\n",
    "# eigen_values:  [1739.7481184   623.85432367]\n",
    "\n",
    "covariance_matrix = covariance(data)\n",
    "\n",
    "eigen_values, eigen_vectors = get_Eigens(covariance_matrix)\n",
    "\n",
    "covariance_matrix,eigen_values,eigen_vectors"
   ]
  },
  {
   "cell_type": "code",
   "execution_count": 18,
   "metadata": {},
   "outputs": [
    {
     "name": "stdout",
     "output_type": "stream",
     "text": [
      "Eigenvalues: []\n",
      "Eigenvectors:\n"
     ]
    }
   ],
   "source": [
    "import numpy as np\n",
    "\n",
    "def calculate_determinant(matrix):\n",
    "    \"\"\"\n",
    "    Calculate the determinant of a matrix recursively.\n",
    "    \"\"\"\n",
    "    n = len(matrix)\n",
    "    if n == 1:  # Base case for 1x1 matrix\n",
    "        return matrix[0, 0]\n",
    "    if n == 2:  # Base case for 2x2 matrix\n",
    "        return matrix[0, 0] * matrix[1, 1] - matrix[0, 1] * matrix[1, 0]\n",
    "\n",
    "    # Recursive case for larger matrices\n",
    "    determinant = 0\n",
    "    for col in range(n):\n",
    "        submatrix = np.delete(np.delete(matrix, 0, axis=0), col, axis=1)\n",
    "        determinant += ((-1) ** col) * matrix[0, col] * calculate_determinant(submatrix)\n",
    "    return determinant\n",
    "\n",
    "def find_eigenvalues(matrix):\n",
    "    \"\"\"\n",
    "    Find eigenvalues by solving the characteristic polynomial.\n",
    "    \"\"\"\n",
    "    n = len(matrix)\n",
    "    identity = np.eye(n)\n",
    "    eigenvalues = []\n",
    "    for guess in np.linspace(-10, 10, 1000):  # Brute-force guesses for eigenvalues\n",
    "        char_matrix = matrix - guess * identity\n",
    "        if np.isclose(calculate_determinant(char_matrix), 0, atol=1e-5):\n",
    "            if not any(np.isclose(guess, ev, atol=1e-3) for ev in eigenvalues):\n",
    "                eigenvalues.append(guess)\n",
    "    return eigenvalues\n",
    "\n",
    "def find_eigenvectors(matrix, eigenvalues):\n",
    "    \"\"\"\n",
    "    Find eigenvectors for each eigenvalue.\n",
    "    \"\"\"\n",
    "    n = len(matrix)\n",
    "    identity = np.eye(n)\n",
    "    eigenvectors = []\n",
    "\n",
    "    for eigenvalue in eigenvalues:\n",
    "        char_matrix = matrix - eigenvalue * identity\n",
    "        _, _, vh = np.linalg.svd(char_matrix)  # Null space via SVD\n",
    "        null_space_vector = vh[-1]  # Last row corresponds to the null space\n",
    "        eigenvectors.append(null_space_vector / np.linalg.norm(null_space_vector))\n",
    "    \n",
    "    return eigenvectors\n",
    "\n",
    "def calculate_eigen(matrix):\n",
    "    \"\"\"\n",
    "    Calculate eigenvalues and eigenvectors from scratch.\n",
    "    \"\"\"\n",
    "    matrix = np.array(matrix, dtype=float)\n",
    "    eigenvalues = find_eigenvalues(matrix)\n",
    "    eigenvectors = find_eigenvectors(matrix, eigenvalues)\n",
    "    return eigenvalues, eigenvectors\n",
    "\n",
    "# Example usage\n",
    "data = [\n",
    "  [1616.68365449, -349.54543245,  -22.06700932, -123.4582571 ],\n",
    " [-349.54543245,  746.91878758,   -8.56294962,  486.42037881],\n",
    " [ -22.06700932,   -8.56294962,    7.4999359,     6.32702599],\n",
    " [-123.4582571,   486.42037881,    6.32702599,  582.59459241],\n",
    "]\n",
    "\n",
    "eigenvalues, eigenvectors = calculate_eigen(data)\n",
    "\n",
    "print(\"Eigenvalues:\", eigenvalues)\n",
    "print(\"Eigenvectors:\")\n",
    "for vector in eigenvectors:\n",
    "    print(vector)\n"
   ]
  },
  {
   "cell_type": "code",
   "execution_count": 19,
   "metadata": {},
   "outputs": [
    {
     "data": {
      "text/plain": [
       "3.3333333333333335"
      ]
     },
     "execution_count": 19,
     "metadata": {},
     "output_type": "execute_result"
    }
   ],
   "source": [
    "10/3"
   ]
  },
  {
   "cell_type": "code",
   "execution_count": 20,
   "metadata": {},
   "outputs": [
    {
     "name": "stdout",
     "output_type": "stream",
     "text": [
      "The roots of the cubic equation are: [1, 2, 3]\n"
     ]
    }
   ],
   "source": [
    "from sympy import symbols, Eq, solve\n",
    "\n",
    "# Define the variable\n",
    "x = symbols('x')\n",
    "\n",
    "# Define the cubic equation\n",
    "equation = Eq(x**3 - 6*x**2 + 11*x - 6, 0)  # Example: x^3 - 6x^2 + 11x - 6 = 0\n",
    "\n",
    "# Solve the equation\n",
    "roots = solve(equation, x)\n",
    "\n",
    "print(\"The roots of the cubic equation are:\", roots)\n"
   ]
  },
  {
   "cell_type": "code",
   "execution_count": 21,
   "metadata": {},
   "outputs": [],
   "source": [
    "def calc_determinant(matrix,depth=0):\n",
    "    if matrix.shape ==(2,2):\n",
    "        print(\"good job\")\n",
    "        return matrix[0][0]*matrix[1][1] - matrix[0][1]*matrix[1][0]\n",
    "    else:# if the shape is (3,3) or higher\n",
    "        result=0\n",
    "        for i in range(len(matrix)):\n",
    "            helper = np.delete(matrix,i,axis=1)\n",
    "            helper = np.delete(helper,0,axis=0)\n",
    "            print((-1)**i *matrix[0][i],\" the depth is: \",depth)\n",
    "            result+= (-1)**i * matrix[0][i]*calc_determinant(helper,depth+1)\n",
    "        return result"
   ]
  },
  {
   "cell_type": "code",
   "execution_count": 22,
   "metadata": {},
   "outputs": [
    {
     "name": "stdout",
     "output_type": "stream",
     "text": [
      "1  the depth is:  0\n",
      "5  the depth is:  1\n",
      "good job\n",
      "0  the depth is:  1\n",
      "good job\n",
      "3  the depth is:  1\n",
      "good job\n",
      "0  the depth is:  0\n",
      "2  the depth is:  1\n",
      "good job\n",
      "0  the depth is:  1\n",
      "good job\n",
      "3  the depth is:  1\n",
      "good job\n",
      "4  the depth is:  0\n",
      "2  the depth is:  1\n",
      "good job\n",
      "-5  the depth is:  1\n",
      "good job\n",
      "3  the depth is:  1\n",
      "good job\n",
      "6  the depth is:  0\n",
      "2  the depth is:  1\n",
      "good job\n",
      "-5  the depth is:  1\n",
      "good job\n",
      "0  the depth is:  1\n",
      "good job\n"
     ]
    },
    {
     "data": {
      "text/plain": [
       "318"
      ]
     },
     "execution_count": 22,
     "metadata": {},
     "output_type": "execute_result"
    }
   ],
   "source": [
    "data =np.array([\n",
    "    [1,0,4,-6],\n",
    "    [2,5,0,3],\n",
    "    [-1,2,3,5],\n",
    "    [2,1,-2,3]\n",
    "])\n",
    "calc_determinant(data)"
   ]
  },
  {
   "cell_type": "code",
   "execution_count": 23,
   "metadata": {},
   "outputs": [
    {
     "data": {
      "text/plain": [
       "(array([[1, 2, 3],\n",
       "        [5, 6, 3],\n",
       "        [5, 2, 1]]),\n",
       " array([[5, 6, 3],\n",
       "        [5, 2, 1]]))"
      ]
     },
     "execution_count": 23,
     "metadata": {},
     "output_type": "execute_result"
    }
   ],
   "source": [
    "\n",
    "temp= np.array([[1,2,3],\n",
    "                [5,6,3],\n",
    "                [5,2,1]])\n",
    "k = np.delete(temp,0,axis=0)\n",
    "# temp = np.delete(temp,1,axis=1)\n",
    "(temp,k)"
   ]
  },
  {
   "cell_type": "code",
   "execution_count": 24,
   "metadata": {},
   "outputs": [
    {
     "ename": "SyntaxError",
     "evalue": "invalid syntax (3305703063.py, line 3)",
     "output_type": "error",
     "traceback": [
      "\u001b[1;36m  Cell \u001b[1;32mIn[24], line 3\u001b[1;36m\u001b[0m\n\u001b[1;33m    data.(x,10)\u001b[0m\n\u001b[1;37m         ^\u001b[0m\n\u001b[1;31mSyntaxError\u001b[0m\u001b[1;31m:\u001b[0m invalid syntax\n"
     ]
    }
   ],
   "source": [
    "x= symbols(\"x\")\n",
    "data = 3*x**2+50*4*x\n",
    "data.(x,10)"
   ]
  },
  {
   "cell_type": "code",
   "execution_count": 108,
   "metadata": {},
   "outputs": [
    {
     "data": {
      "text/plain": [
       "(3*x**2 + 200*x, 40)"
      ]
     },
     "execution_count": 108,
     "metadata": {},
     "output_type": "execute_result"
    }
   ],
   "source": [
    "x=40\n",
    "data,x"
   ]
  },
  {
   "cell_type": "code",
   "execution_count": 27,
   "metadata": {},
   "outputs": [
    {
     "data": {
      "text/latex": [
       "$\\displaystyle \\left[\\begin{matrix}0\\\\0\\end{matrix}\\right]$"
      ],
      "text/plain": [
       "Matrix([\n",
       "[0],\n",
       "[0]])"
      ]
     },
     "execution_count": 27,
     "metadata": {},
     "output_type": "execute_result"
    }
   ],
   "source": [
    "from sympy import symbols \n",
    "from sympy.matrices import Matrix\n",
    "b = Matrix([0,0])\n",
    "A.solve(b)"
   ]
  },
  {
   "cell_type": "code",
   "execution_count": 31,
   "metadata": {},
   "outputs": [
    {
     "data": {
      "text/plain": [
       "{x1: 0.0, x2: 0.0}"
      ]
     },
     "execution_count": 31,
     "metadata": {},
     "output_type": "execute_result"
    }
   ],
   "source": [
    "import sympy as sp\n",
    "\n",
    "# Define the matrix\n",
    "A = sp.Matrix([[-4/3,-4/3],[-4/3,-2/3]])\n",
    "\n",
    "# Define the vector\n",
    "x = sp.Matrix(sp.symbols('x1 x2'))\n",
    "\n",
    "# Define the equation A * x = 0\n",
    "eq = A * x\n",
    "\n",
    "# Solve the equation\n",
    "solution = sp.solve(eq, x)\n",
    "\n",
    "solution\n"
   ]
  },
  {
   "cell_type": "code",
   "execution_count": 49,
   "metadata": {},
   "outputs": [
    {
     "data": {
      "text/plain": [
       "{x1: -2.0*x2, x3: 0.0}"
      ]
     },
     "execution_count": 49,
     "metadata": {},
     "output_type": "execute_result"
    }
   ],
   "source": [
    "from sympy import Matrix, symbols ,solve\n",
    "\n",
    "# Define the matrix with rows that are the same but multiplied by some factor\n",
    "A = Matrix([\n",
    "[-2/3, -4/3, -2.0],\n",
    "[-4/3, -8/3, 1],\n",
    "[0, 0, 0]\n",
    "])\n",
    "\n",
    "\n",
    "# Define the vector\n",
    "x = Matrix(symbols('x1 x2 x3'))\n",
    "\n",
    "# Define the equation A * x = 0\n",
    "eq = A * x\n",
    "\n",
    "# Solve the equation for x\n",
    "solution = solve(eq, x)\n",
    "\n",
    "solution\n"
   ]
  },
  {
   "cell_type": "code",
   "execution_count": 22,
   "metadata": {},
   "outputs": [
    {
     "ename": "NonInvertibleMatrixError",
     "evalue": "Matrix det == 0; not invertible.",
     "output_type": "error",
     "traceback": [
      "\u001b[1;31m---------------------------------------------------------------------------\u001b[0m",
      "\u001b[1;31mNonInvertibleMatrixError\u001b[0m                  Traceback (most recent call last)",
      "File \u001b[1;32mc:\\ProgramData\\anaconda3\\Lib\\site-packages\\sympy\\matrices\\solvers.py:754\u001b[0m, in \u001b[0;36m_solve\u001b[1;34m(M, rhs, method)\u001b[0m\n\u001b[0;32m    753\u001b[0m     \u001b[38;5;28;01mif\u001b[39;00m param:\n\u001b[1;32m--> 754\u001b[0m         \u001b[38;5;28;01mraise\u001b[39;00m NonInvertibleMatrixError(\u001b[38;5;124m\"\u001b[39m\u001b[38;5;124mMatrix det == 0; not invertible. \u001b[39m\u001b[38;5;124m\"\u001b[39m\n\u001b[0;32m    755\u001b[0m         \u001b[38;5;124m\"\u001b[39m\u001b[38;5;124mTry ``M.gauss_jordan_solve(rhs)`` to obtain a parametric solution.\u001b[39m\u001b[38;5;124m\"\u001b[39m)\n\u001b[0;32m    757\u001b[0m \u001b[38;5;28;01mexcept\u001b[39;00m \u001b[38;5;167;01mValueError\u001b[39;00m:\n",
      "\u001b[1;31mNonInvertibleMatrixError\u001b[0m: Matrix det == 0; not invertible. Try ``M.gauss_jordan_solve(rhs)`` to obtain a parametric solution.",
      "\nDuring handling of the above exception, another exception occurred:\n",
      "\u001b[1;31mNonInvertibleMatrixError\u001b[0m                  Traceback (most recent call last)",
      "Cell \u001b[1;32mIn[22], line 14\u001b[0m\n\u001b[0;32m     11\u001b[0m b \u001b[38;5;241m=\u001b[39m Matrix([\u001b[38;5;241m14\u001b[39m, \u001b[38;5;241m32\u001b[39m, \u001b[38;5;241m50\u001b[39m])\n\u001b[0;32m     13\u001b[0m \u001b[38;5;66;03m# Solve the linear system using rref for general solutions\u001b[39;00m\n\u001b[1;32m---> 14\u001b[0m A\u001b[38;5;241m.\u001b[39msolve(b)\n",
      "File \u001b[1;32mc:\\ProgramData\\anaconda3\\Lib\\site-packages\\sympy\\matrices\\matrices.py:2144\u001b[0m, in \u001b[0;36mMatrixBase.solve\u001b[1;34m(self, rhs, method)\u001b[0m\n\u001b[0;32m   2143\u001b[0m \u001b[38;5;28;01mdef\u001b[39;00m \u001b[38;5;21msolve\u001b[39m(\u001b[38;5;28mself\u001b[39m, rhs, method\u001b[38;5;241m=\u001b[39m\u001b[38;5;124m'\u001b[39m\u001b[38;5;124mGJ\u001b[39m\u001b[38;5;124m'\u001b[39m):\n\u001b[1;32m-> 2144\u001b[0m     \u001b[38;5;28;01mreturn\u001b[39;00m _solve(\u001b[38;5;28mself\u001b[39m, rhs, method\u001b[38;5;241m=\u001b[39mmethod)\n",
      "File \u001b[1;32mc:\\ProgramData\\anaconda3\\Lib\\site-packages\\sympy\\matrices\\solvers.py:758\u001b[0m, in \u001b[0;36m_solve\u001b[1;34m(M, rhs, method)\u001b[0m\n\u001b[0;32m    754\u001b[0m             \u001b[38;5;28;01mraise\u001b[39;00m NonInvertibleMatrixError(\u001b[38;5;124m\"\u001b[39m\u001b[38;5;124mMatrix det == 0; not invertible. \u001b[39m\u001b[38;5;124m\"\u001b[39m\n\u001b[0;32m    755\u001b[0m             \u001b[38;5;124m\"\u001b[39m\u001b[38;5;124mTry ``M.gauss_jordan_solve(rhs)`` to obtain a parametric solution.\u001b[39m\u001b[38;5;124m\"\u001b[39m)\n\u001b[0;32m    757\u001b[0m     \u001b[38;5;28;01mexcept\u001b[39;00m \u001b[38;5;167;01mValueError\u001b[39;00m:\n\u001b[1;32m--> 758\u001b[0m         \u001b[38;5;28;01mraise\u001b[39;00m NonInvertibleMatrixError(\u001b[38;5;124m\"\u001b[39m\u001b[38;5;124mMatrix det == 0; not invertible.\u001b[39m\u001b[38;5;124m\"\u001b[39m)\n\u001b[0;32m    760\u001b[0m     \u001b[38;5;28;01mreturn\u001b[39;00m soln\n\u001b[0;32m    762\u001b[0m \u001b[38;5;28;01melif\u001b[39;00m method \u001b[38;5;241m==\u001b[39m \u001b[38;5;124m'\u001b[39m\u001b[38;5;124mLU\u001b[39m\u001b[38;5;124m'\u001b[39m:\n",
      "\u001b[1;31mNonInvertibleMatrixError\u001b[0m: Matrix det == 0; not invertible."
     ]
    }
   ],
   "source": [
    "from sympy import Matrix, symbols\n",
    "\n",
    "# Define the singular matrix of coefficients\n",
    "A = Matrix([\n",
    "    [1, 2, 3],\n",
    "    [4, 5, 6],\n",
    "    [7, 8, 9]\n",
    "])\n",
    "\n",
    "# Define the right-hand side vector\n",
    "b = Matrix([14, 32, 50])\n",
    "\n",
    "# Solve the linear system using rref for general solutions\n",
    "A.solve(b)\n"
   ]
  },
  {
   "cell_type": "code",
   "execution_count": 119,
   "metadata": {},
   "outputs": [
    {
     "data": {
      "text/plain": [
       "array([-0.23462496, -0.70171674, -0.23244323,  0.63128036])"
      ]
     },
     "execution_count": 119,
     "metadata": {},
     "output_type": "execute_result"
    }
   ],
   "source": [
    "A = np.array([\n",
    "   [ 1.,         -0.31809322, -0.20040206, -0.12721092],\n",
    " [-0.31809322,  1.,         -0.1144084,   0.73738083],\n",
    " [-0.20040206, -0.1144084,   1.,          0.09571668],\n",
    " [-0.12721092,  0.73738083,  0.09571668,  1.        ],\n",
    "])\n",
    "\n",
    "# Compute the null space of A\n",
    "_, _, vh = np.linalg.svd(A)\n",
    "null_space = vh[-1]  # The last row of V^H corresponds to the null space\n",
    "\n",
    "# Normalize the null space vector for better representation\n",
    "null_space_normalized = null_space / np.linalg.norm(null_space)\n",
    "\n",
    "null_space_normalized"
   ]
  },
  {
   "cell_type": "code",
   "execution_count": null,
   "metadata": {},
   "outputs": [],
   "source": []
  }
 ],
 "metadata": {
  "kernelspec": {
   "display_name": "base",
   "language": "python",
   "name": "python3"
  },
  "language_info": {
   "codemirror_mode": {
    "name": "ipython",
    "version": 3
   },
   "file_extension": ".py",
   "mimetype": "text/x-python",
   "name": "python",
   "nbconvert_exporter": "python",
   "pygments_lexer": "ipython3",
   "version": "3.11.7"
  }
 },
 "nbformat": 4,
 "nbformat_minor": 2
}
