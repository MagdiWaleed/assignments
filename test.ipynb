{
 "cells": [
  {
   "cell_type": "code",
   "execution_count": 1,
   "metadata": {},
   "outputs": [],
   "source": [
    "import numpy as np"
   ]
  },
  {
   "cell_type": "code",
   "execution_count": 2,
   "metadata": {},
   "outputs": [],
   "source": [
    "cofficients = [1,-8/3,0]"
   ]
  },
  {
   "cell_type": "markdown",
   "metadata": {},
   "source": [
    "<span style=\"background-color:green\">X**2 - x*10/3 +0=0<span>\n",
    "<br>\n",
    "(x=0), (x=10/3)"
   ]
  },
  {
   "cell_type": "code",
   "execution_count": null,
   "metadata": {},
   "outputs": [
    {
     "name": "stdout",
     "output_type": "stream",
     "text": [
      "eigenvalues:  [6.928877178491143, 624.2389416617572, 1739.9345591297517]\n",
      "uuuuuuu:\n",
      " [[-0.94324473 -0.33160656  0.01806836]\n",
      " [ 0.33193638 -0.94308756  0.02010235]\n",
      " [ 0.01037398  0.02495898  0.99963465]]\n",
      "\n",
      "\n",
      "vvvvvv\n",
      " [[-0.94324473  0.33193638  0.01037398]\n",
      " [-0.33160656 -0.94308756  0.02495898]\n",
      " [ 0.01806836  0.02010235  0.99963465]]\n"
     ]
    },
    {
     "ename": "NameError",
     "evalue": "name 'vh' is not defined",
     "output_type": "error",
     "traceback": [
      "\u001b[1;31m---------------------------------------------------------------------------\u001b[0m",
      "\u001b[1;31mNameError\u001b[0m                                 Traceback (most recent call last)",
      "Cell \u001b[1;32mIn[27], line 93\u001b[0m\n\u001b[0;32m     87\u001b[0m covariance_matrix \u001b[38;5;241m=\u001b[39m np\u001b[38;5;241m.\u001b[39marray([\n\u001b[0;32m     88\u001b[0m   [\u001b[38;5;241m1616.68365449\u001b[39m, \u001b[38;5;241m-\u001b[39m\u001b[38;5;241m349.54543245\u001b[39m,  \u001b[38;5;241m-\u001b[39m\u001b[38;5;241m22.06700932\u001b[39m],\n\u001b[0;32m     89\u001b[0m  [\u001b[38;5;241m-\u001b[39m\u001b[38;5;241m349.54543245\u001b[39m,  \u001b[38;5;241m746.91878758\u001b[39m,   \u001b[38;5;241m-\u001b[39m\u001b[38;5;241m8.56294962\u001b[39m],\n\u001b[0;32m     90\u001b[0m  [ \u001b[38;5;241m-\u001b[39m\u001b[38;5;241m22.06700932\u001b[39m,   \u001b[38;5;241m-\u001b[39m\u001b[38;5;241m8.56294962\u001b[39m,    \u001b[38;5;241m7.4999359\u001b[39m ],\n\u001b[0;32m     91\u001b[0m ])\n\u001b[0;32m     92\u001b[0m get_eigen \u001b[38;5;241m=\u001b[39m get_Eigens()\n\u001b[1;32m---> 93\u001b[0m eigen_values, eigen_vectors \u001b[38;5;241m=\u001b[39m get_eigen\u001b[38;5;241m.\u001b[39mmain(covariance_matrix)\n\u001b[0;32m     94\u001b[0m val,v  \u001b[38;5;241m=\u001b[39m np\u001b[38;5;241m.\u001b[39mlinalg\u001b[38;5;241m.\u001b[39meig(covariance_matrix)\n\u001b[0;32m     95\u001b[0m \u001b[38;5;66;03m# eigen_values[0],val[0]\u001b[39;00m\n",
      "Cell \u001b[1;32mIn[27], line 59\u001b[0m, in \u001b[0;36mget_Eigens.main\u001b[1;34m(self, matrix)\u001b[0m\n\u001b[0;32m     57\u001b[0m eigenvalues \u001b[38;5;241m=\u001b[39m [\u001b[38;5;28mfloat\u001b[39m(re(eigenvalue)) \u001b[38;5;28;01mfor\u001b[39;00m eigenvalue \u001b[38;5;129;01min\u001b[39;00m eigenvalues]\n\u001b[0;32m     58\u001b[0m \u001b[38;5;28mprint\u001b[39m(\u001b[38;5;124m\"\u001b[39m\u001b[38;5;124meigenvalues: \u001b[39m\u001b[38;5;124m\"\u001b[39m,eigenvalues)\n\u001b[1;32m---> 59\u001b[0m eigenvectors \u001b[38;5;241m=\u001b[39m\u001b[38;5;28mself\u001b[39m\u001b[38;5;241m.\u001b[39mcalc_eigenvector(matrix,eigenvalues)\n\u001b[0;32m     60\u001b[0m \u001b[38;5;28;01mreturn\u001b[39;00m eigenvalues,eigenvectors\n",
      "Cell \u001b[1;32mIn[27], line 49\u001b[0m, in \u001b[0;36mget_Eigens.calc_eigenvector\u001b[1;34m(self, result, eigenvalues)\u001b[0m\n\u001b[0;32m     47\u001b[0m     \u001b[38;5;28mprint\u001b[39m(\u001b[38;5;124m\"\u001b[39m\u001b[38;5;124muuuuuuu:\u001b[39m\u001b[38;5;130;01m\\n\u001b[39;00m\u001b[38;5;124m\"\u001b[39m,u)\n\u001b[0;32m     48\u001b[0m     \u001b[38;5;28mprint\u001b[39m(\u001b[38;5;124m\"\u001b[39m\u001b[38;5;130;01m\\n\u001b[39;00m\u001b[38;5;130;01m\\n\u001b[39;00m\u001b[38;5;124mvvvvvv\u001b[39m\u001b[38;5;130;01m\\n\u001b[39;00m\u001b[38;5;124m\"\u001b[39m,v)\n\u001b[1;32m---> 49\u001b[0m     eigenvector \u001b[38;5;241m=\u001b[39m vh[\u001b[38;5;241m-\u001b[39m\u001b[38;5;241m1\u001b[39m]  \u001b[38;5;66;03m# The eigenvector corresponds to the smallest singular value\u001b[39;00m\n\u001b[0;32m     50\u001b[0m     eigenvectors\u001b[38;5;241m.\u001b[39mappend(eigenvector)\n\u001b[0;32m     52\u001b[0m \u001b[38;5;28;01mreturn\u001b[39;00m eigenvectors\n",
      "\u001b[1;31mNameError\u001b[0m: name 'vh' is not defined"
     ]
    }
   ],
   "source": [
    "from sympy import symbols, Eq, solve, Matrix, re, simplify\n",
    "\n",
    "class get_Eigens():\n",
    "    def __init__(self):\n",
    "        pass\n",
    "    def calc_determinant(self,matrix,depth=0):\n",
    "        if matrix.shape ==(2,2):\n",
    "            return matrix[0][0]*matrix[1][1] - matrix[0][1]*matrix[1][0]\n",
    "        else:# if the shape is (3,3) or higher\n",
    "            result=0\n",
    "            for i in range(len(matrix)):\n",
    "                helper = np.delete(matrix,i,axis=1)\n",
    "                helper = np.delete(helper,0,axis=0)\n",
    "                result+= (-1)**i * matrix[0][i]* self.calc_determinant(helper,depth+1)\n",
    "            return result\n",
    "        \n",
    "    def calc_eigenvalue(self,matrix):\n",
    "        y = symbols('y')\n",
    "        idintity_matrix = np.zeros(matrix.shape);np.fill_diagonal(idintity_matrix,1)\n",
    "        result =  matrix- y*idintity_matrix\n",
    "        determinant = self.calc_determinant(result)\n",
    "        equation = Eq(determinant,0)\n",
    "        \n",
    "        return solve(equation,y)\n",
    "    \n",
    "    def calc_eigenvector(self,result, eigenvalues):\n",
    "        eigenvectors = []#note the result must equalt to 8, 5, 4 and 3\n",
    "        for eigenvalue in eigenvalues:\n",
    "            temp = result.copy()\n",
    "            shifted = np.zeros(result.shape);np.fill_diagonal(shifted,eigenvalue)\n",
    "            temp = temp - shifted\n",
    "            # print(temp)\n",
    "            # print(\"determinant of eigen value \",eigenvalue,\": \", self.calc_determinant(temp))\n",
    "        \n",
    "            # A = Matrix(temp)\n",
    "            # x_symbols= ''\n",
    "            # for i in range(np.array(A).shape[0]):\n",
    "            #     if i+1!=np.array(A).shape[0]:\n",
    "            #         x_symbols+=\"x\"+str(i+1)+\" \"\n",
    "            #     else:\n",
    "            #         x_symbols+=\"x\"+str(i+1)\n",
    "            # x = Matrix(symbols(x_symbols))\n",
    "            # eq = A *x\n",
    "            # solution = solve(eq, x)\n",
    "            # eigenvectors.append(solution)\n",
    "            u,_, v = np.linalg.svd(temp)\n",
    "            print(\"uuuuuuu:\\n\",u)\n",
    "            print(\"\\n\\nvvvvvv\\n\",v)\n",
    "            eigenvector = vh[-1]  # The eigenvector corresponds to the smallest singular value\n",
    "            eigenvectors.append(eigenvector)\n",
    "        \n",
    "        return eigenvectors\n",
    "    def main(self,matrix):\n",
    "        \n",
    "        # print(result)\n",
    "        eigenvalues = self.calc_eigenvalue(matrix)\n",
    "        eigenvalues = [float(re(eigenvalue)) for eigenvalue in eigenvalues]\n",
    "        print(\"eigenvalues: \",eigenvalues)\n",
    "        eigenvectors =self.calc_eigenvector(matrix,eigenvalues)\n",
    "        return eigenvalues,eigenvectors\n",
    "    \n",
    "# # Define the variable\n",
    "\n",
    "\n",
    "# # Define the cubic equation\n",
    "# equation = Eq(x**2 - (10*x)/3 + 0, 0)  # Example: x^3 - 6x^2 + 11x - 6 = 0\n",
    "\n",
    "# # Solve the equation\n",
    "# roots = solve(equation, x)\n",
    "\n",
    "# print(\"The roots of the cubic equation are:\", roots)\n",
    "def covariance(values):\n",
    "        return np.dot(values.T,values)/len(values)\n",
    "\n",
    "# data =np.array( [\n",
    "# [1616.68365449, -349.54543245],\n",
    "#  [-349.54543245,  746.91878758],\n",
    "#  ])\n",
    "\n",
    "# eigen_values:  [1739.7481184   623.85432367]\n",
    "data = np.array([\n",
    "  [1616.68365449, -349.54543245,  -22.06700932],\n",
    " [-349.54543245,  746.91878758,   -8.56294962],\n",
    " [ -22.06700932,   -8.56294962,    7.4999359 ],\n",
    "])\n",
    "covariance_matrix = covariance(data)\n",
    "covariance_matrix = np.array([\n",
    "  [1616.68365449, -349.54543245,  -22.06700932],\n",
    " [-349.54543245,  746.91878758,   -8.56294962],\n",
    " [ -22.06700932,   -8.56294962,    7.4999359 ],\n",
    "])\n",
    "get_eigen = get_Eigens()\n",
    "eigen_values, eigen_vectors = get_eigen.main(covariance_matrix)\n",
    "val,v  = np.linalg.eig(covariance_matrix)\n",
    "# eigen_values[0],val[0]\n",
    "eigen_vectors[np.argmax(eigen_values)],v[np.argmax(val)]\n",
    "np.dot(eigen_vectors[0],eigen_vectors[1])"
   ]
  },
  {
   "cell_type": "code",
   "execution_count": 4,
   "metadata": {},
   "outputs": [
    {
     "name": "stdout",
     "output_type": "stream",
     "text": [
      "the matrix: [[1616.68365449 -349.54543245  -22.06700932]\n",
      " [-349.54543245  746.91878758   -8.56294962]\n",
      " [ -22.06700932   -8.56294962    7.4999359 ]]\n",
      "[[1. 0. 0.]\n",
      " [0. 1. 0.]\n",
      " [0. 0. 1.]]\n",
      "cofficients:  [ 1.00000000e+00 -2.37110238e+03  1.10251598e+06 -7.52569538e+06]\n",
      "eigenvalues: [1739.93455913  624.23894166    6.92887718]\n",
      "determinant:  [[ -123.25090464  -349.54543245   -22.06700932]\n",
      " [ -349.54543245  -993.01577155    -8.56294962]\n",
      " [  -22.06700932    -8.56294962 -1732.43462323]]\n",
      "determinant:  [[ 992.44471283 -349.54543245  -22.06700932]\n",
      " [-349.54543245  122.67984592   -8.56294962]\n",
      " [ -22.06700932   -8.56294962 -616.73900576]]\n",
      "determinant:  [[ 1.60975478e+03 -3.49545432e+02 -2.20670093e+01]\n",
      " [-3.49545432e+02  7.39989910e+02 -8.56294962e+00]\n",
      " [-2.20670093e+01 -8.56294962e+00  5.71058722e-01]]\n",
      "Eigenvalues: [1739.93455913  624.23894166    6.92887718]\n",
      "Eigenvectors: [[ 0.94324473  0.33160656  0.01806836]\n",
      " [-0.33193638  0.94308756  0.02010235]\n",
      " [-0.01037398 -0.02495898  0.99963465]]\n"
     ]
    }
   ],
   "source": [
    "import numpy as np\n",
    "\n",
    "def custom_eig(matrix):\n",
    "    \"\"\"\n",
    "    Computes the eigenvalues and eigenvectors of a square matrix.\n",
    "\n",
    "    Parameters:\n",
    "        matrix (ndarray): A square 2D NumPy array.\n",
    "\n",
    "    Returns:\n",
    "        eigenvalues (ndarray): An array of eigenvalues.\n",
    "        eigenvectors (ndarray): A 2D array where each column is an eigenvector.\n",
    "    \"\"\"\n",
    "    # Ensure the input is a square matrix\n",
    "    if matrix.shape[0] != matrix.shape[1]:\n",
    "        raise ValueError(\"Input must be a square matrix.\")\n",
    "\n",
    "    # Step 1: Compute the eigenvalues (roots of the characteristic polynomial)\n",
    "    print(\"the matrix:\",matrix)\n",
    "    identity = np.eye(matrix.shape[0])\n",
    "    print(identity)\n",
    "    coeffs = np.poly(matrix)\n",
    "    print(\"cofficients: \", coeffs)  # Coefficients of the characteristic polynomial\n",
    "    eigenvalues = np.roots(coeffs)\n",
    "    print(\"eigenvalues:\", eigenvalues)\n",
    "\n",
    "    # Step 2: Compute the eigenvectors\n",
    "    eigenvectors = []\n",
    "    for eigenvalue in eigenvalues:\n",
    "        # Solve (A - lambda * I) v = 0\n",
    "        shifted_matrix = matrix - eigenvalue * identity\n",
    "        print(\"determinant: \",shifted_matrix)\n",
    "        _, _, vh = np.linalg.svd(shifted_matrix)\n",
    "        eigenvector = vh[-1]  # The eigenvector corresponds to the smallest singular value\n",
    "        eigenvectors.append(eigenvector)\n",
    "\n",
    "    # Convert eigenvectors list to a 2D array (columns are eigenvectors)\n",
    "    eigenvectors = np.array(eigenvectors).T\n",
    "\n",
    "    return np.array(eigenvalues), eigenvectors\n",
    "\n",
    "# Example usage\n",
    "if __name__ == \"__main__\":\n",
    "    matrix = np.array([\n",
    "    [1616.68365449, -349.54543245,  -22.06700932],\n",
    " [-349.54543245,  746.91878758,   -8.56294962],\n",
    " [ -22.06700932,   -8.56294962,    7.4999359 ],\n",
    "    ])\n",
    "\n",
    "    eigenvalues, eigenvectors = custom_eig(matrix)\n",
    "    print(\"Eigenvalues:\", eigenvalues)\n",
    "    print(\"Eigenvectors:\", eigenvectors)\n"
   ]
  },
  {
   "cell_type": "code",
   "execution_count": 5,
   "metadata": {},
   "outputs": [
    {
     "name": "stdout",
     "output_type": "stream",
     "text": [
      "Row Dependencies:\n"
     ]
    }
   ],
   "source": [
    "import numpy as np\n",
    "\n",
    "def find_row_dependency(matrix, tol=1e-10):\n",
    "    \"\"\"\n",
    "    Find row dependencies in a matrix.\n",
    "\n",
    "    Parameters:\n",
    "        matrix (list of lists or numpy array): The matrix to analyze.\n",
    "        tol (float): Tolerance to treat near-zero values as zero.\n",
    "\n",
    "    Returns:\n",
    "        dependencies (list): List of dependent rows and their relationships.\n",
    "    \"\"\"\n",
    "    matrix = np.array(matrix, dtype=float)  # Convert to float for precision\n",
    "    rows, cols = matrix.shape\n",
    "    dependencies = []\n",
    "    \n",
    "    # Perform Gaussian elimination\n",
    "    for i in range(min(rows, cols)):\n",
    "        # Find the pivot (largest absolute value in column i below row i)\n",
    "        pivot_row = np.argmax(np.abs(matrix[i:, i])) + i\n",
    "        pivot_value = matrix[pivot_row, i]\n",
    "        \n",
    "        if abs(pivot_value) < tol:  # Pivot is too small, skip this column\n",
    "            continue\n",
    "        \n",
    "        # Swap rows to place pivot on the diagonal\n",
    "        matrix[[i, pivot_row]] = matrix[[pivot_row, i]]\n",
    "        \n",
    "        # Normalize pivot row\n",
    "        matrix[i] = matrix[i] / matrix[i, i]\n",
    "        \n",
    "        # Eliminate below\n",
    "        for j in range(i + 1, rows):\n",
    "            matrix[j] -= matrix[j, i] * matrix[i]\n",
    "    \n",
    "    # Check for dependent rows\n",
    "    for i in range(rows):\n",
    "        if np.all(np.abs(matrix[i]) < tol):  # Row is effectively zero\n",
    "            # Find dependency as linear combination\n",
    "            dependency = f\"Row {i} is dependent on: \"\n",
    "            factors = []\n",
    "            \n",
    "            for j in range(rows):\n",
    "                if j != i and np.any(np.abs(matrix[j]) > tol):\n",
    "                    factors.append(f\"Row {j}\")\n",
    "            dependency += \", \".join(factors)\n",
    "            dependencies.append(dependency)\n",
    "    \n",
    "    return dependencies\n",
    "\n",
    "# Example\n",
    "matrix = [\n",
    "[ -123.25090464,  -349.54543245,   -22.06700932],\n",
    " [ -349.54543245,  -993.01577155,    -8.56294962],\n",
    " [  -22.06700932,    -8.56294962, -1732.43462323],\n",
    "]\n",
    "\n",
    "dependencies = find_row_dependency(matrix)\n",
    "print(\"Row Dependencies:\")\n",
    "for dep in dependencies:\n",
    "    print(dep)\n"
   ]
  },
  {
   "cell_type": "code",
   "execution_count": 6,
   "metadata": {},
   "outputs": [
    {
     "ename": "AttributeError",
     "evalue": "'list' object has no attribute 'shape'",
     "output_type": "error",
     "traceback": [
      "\u001b[1;31m---------------------------------------------------------------------------\u001b[0m",
      "\u001b[1;31mAttributeError\u001b[0m                            Traceback (most recent call last)",
      "Cell \u001b[1;32mIn[6], line 1\u001b[0m\n\u001b[1;32m----> 1\u001b[0m identity \u001b[38;5;241m=\u001b[39m np\u001b[38;5;241m.\u001b[39meye(matrix\u001b[38;5;241m.\u001b[39mshape[\u001b[38;5;241m0\u001b[39m])\n\u001b[0;32m      2\u001b[0m \u001b[38;5;28mprint\u001b[39m(identity)\n\u001b[0;32m      3\u001b[0m coeffs \u001b[38;5;241m=\u001b[39m np\u001b[38;5;241m.\u001b[39mpoly(matrix)  \u001b[38;5;66;03m# Coefficients of the characteristic polynomial\u001b[39;00m\n",
      "\u001b[1;31mAttributeError\u001b[0m: 'list' object has no attribute 'shape'"
     ]
    }
   ],
   "source": [
    "identity = np.eye(matrix.shape[0])\n",
    "print(identity)\n",
    "coeffs = np.poly(matrix)  # Coefficients of the characteristic polynomial\n",
    "print(cofficients)\n",
    "eigenvalues = np.roots(coeffs)"
   ]
  },
  {
   "cell_type": "code",
   "execution_count": 48,
   "metadata": {},
   "outputs": [
    {
     "data": {
      "text/plain": [
       "0.0"
      ]
     },
     "execution_count": 48,
     "metadata": {},
     "output_type": "execute_result"
    }
   ],
   "source": [
    "round(2.34898991e-16,6)"
   ]
  },
  {
   "cell_type": "code",
   "execution_count": 34,
   "metadata": {},
   "outputs": [],
   "source": [
    "import numpy as np\n",
    "from sympy import symbols, Eq, Matrix, solve, simplify\n",
    "\n",
    "def calc_eigenvalue(self, matrix):\n",
    "    y = symbols('y')\n",
    "    \n",
    "    # Convert matrix to symbolic form\n",
    "    matrix_sym = Matrix(matrix)\n",
    "    identity_matrix = Matrix.eye(matrix.shape[0])\n",
    "    \n",
    "    # Subtract y * identity_matrix from the matrix\n",
    "    result = matrix_sym - y * identity_matrix\n",
    "    \n",
    "    # Calculate the determinant of the symbolic matrix\n",
    "    determinant = result.det()\n",
    "    \n",
    "    # Solve for the eigenvalues (where determinant = 0)\n",
    "    equation = Eq(determinant, 0)\n",
    "    \n",
    "    result = solve(equation, y)\n",
    "    \n",
    "    # Simplify the result\n",
    "    simplified_result = [simplify(r) for r in result]\n",
    "    \n",
    "    # Numerical approximation and remove small imaginary parts\n",
    "    numerical_result = [r.evalf() for r in simplified_result]\n",
    "    \n",
    "    # Remove small imaginary components (close to zero)\n",
    "    numerical_result_real = [r.as_real_imag()[0] if abs(r.imag) < 1e-6 else r for r in numerical_result]\n",
    "\n",
    "    print(\"Simplified Eigenvalues:\", simplified_result)\n",
    "    print(\"Numerical Approximation (Real):\", numerical_result_real)\n",
    "    \n",
    "    return simplified_result, numerical_result_real\n",
    "\n",
    "# Or, alternatively, using NumPy for a more direct approach:\n",
    "def calc_eigenvalue_numpy(self, matrix):\n",
    "    eigenvalues, _ = np.linalg.eig(matrix)\n",
    "    \n",
    "    # Round the eigenvalues to a reasonable precision (since they might be very close to 8, 5, 4, and 3)\n",
    "    eigenvalues_rounded = np.round(eigenvalues, 6)\n",
    "    \n",
    "    print(\"Numerical Eigenvalues (rounded):\", eigenvalues_rounded)\n",
    "    return eigenvalues_rounded\n"
   ]
  },
  {
   "cell_type": "code",
   "execution_count": 22,
   "metadata": {},
   "outputs": [
    {
     "name": "stdout",
     "output_type": "stream",
     "text": [
      "Numerical Eigenvalues (rounded): [1.6+0.j  9.3+0.j  5.5+0.3j 5.5-0.3j]\n"
     ]
    },
    {
     "data": {
      "text/plain": [
       "array([1.6+0.j , 9.3+0.j , 5.5+0.3j, 5.5-0.3j])"
      ]
     },
     "execution_count": 22,
     "metadata": {},
     "output_type": "execute_result"
    }
   ],
   "source": [
    "\n",
    "eigenvalues, _ = np.linalg.eig(covariance_matrix)\n",
    "\n",
    "# Round the eigenvalues to a reasonable precision (since they might be very close to 8, 5, 4, and 3)\n",
    "eigenvalues_rounded = np.round(eigenvalues, 1)\n",
    "\n",
    "print(\"Numerical Eigenvalues (rounded):\", eigenvalues_rounded)\n",
    "eigenvalues_rounded"
   ]
  },
  {
   "cell_type": "code",
   "execution_count": null,
   "metadata": {},
   "outputs": [
    {
     "name": "stdout",
     "output_type": "stream",
     "text": [
      "Determinant of eigenvalue 1.64993734927255 + 0.e-21*I: approximately zero\n",
      "Determinant of eigenvalue 5.53419012851438 - 0.25143793579411*I: approximately zero\n",
      "Determinant of eigenvalue 5.53419012851438 + 0.25143793579411*I: approximately zero\n",
      "Determinant of eigenvalue 9.28168239369869 + 0.e-21*I: approximately zero\n",
      "Eigenvalues: [1.64993734927255 + 0.e-21*I, 5.53419012851438 - 0.25143793579411*I, 5.53419012851438 + 0.25143793579411*I, 9.28168239369869 + 0.e-21*I]\n"
     ]
    }
   ],
   "source": [
    "import numpy as np\n",
    "from sympy import symbols, Eq, solve, Matrix, simplify\n",
    "\n",
    "class GetEigens:\n",
    "    def __init__(self):\n",
    "        self.EPSILON = 1e-10  # Threshold for floating-point precision\n",
    "\n",
    "    def calc_determinant(self, matrix):\n",
    "        sym_matrix = Matrix(matrix)\n",
    "        return sym_matrix.det()\n",
    "\n",
    "    def calc_eigenvalue(self, matrix):\n",
    "        y = symbols('y')\n",
    "        identity_matrix = np.eye(matrix.shape[0])\n",
    "        result = matrix - y * identity_matrix\n",
    "        determinant = self.calc_determinant(result)\n",
    "        equation = Eq(determinant, 0)\n",
    "        return solve(equation, y)\n",
    "\n",
    "    def calc_eigenvector(self, matrix, eigenvalues):\n",
    "        eigenvectors = []\n",
    "        for eigenvalue in eigenvalues:\n",
    "            temp = matrix.copy()\n",
    "            shifted = eigenvalue * np.eye(matrix.shape[0])\n",
    "            temp = temp - shifted\n",
    "            determinant = self.calc_determinant(temp)\n",
    "            if abs(determinant) < self.EPSILON:\n",
    "                print(f\"Determinant of eigenvalue {eigenvalue}: approximately zero\")\n",
    "            else:\n",
    "                print(f\"Determinant of eigenvalue {eigenvalue}: {determinant}\")\n",
    "        return eigenvectors\n",
    "\n",
    "    def main(self, matrix):\n",
    "        eigenvalues = self.calc_eigenvalue(matrix)\n",
    "        eigenvectors = self.calc_eigenvector(matrix, eigenvalues)\n",
    "        return eigenvalues, eigenvectors\n",
    "\n",
    "\n",
    "# Test the class\n",
    "covariance_matrix = np.array([\n",
    "    [4, 1, 2, 0],\n",
    "    [3, 5, 0, 1],\n",
    "    [2, 0, 6, 2],\n",
    "    [0, 1, 2, 7],\n",
    "])\n",
    "\n",
    "get_eigen = GetEigens()\n",
    "eigen_values, eigen_vectors = get_eigen.main(covariance_matrix)\n",
    "print(\"Eigenvalues:\", eigen_values)\n"
   ]
  },
  {
   "cell_type": "code",
   "execution_count": null,
   "metadata": {},
   "outputs": [
    {
     "name": "stdout",
     "output_type": "stream",
     "text": [
      "Eigenvalues: [1.64993734927255 + 0.e-21*I, 5.53419012851438 - 0.25143793579411*I, 5.53419012851438 + 0.25143793579411*I, 9.28168239369869 + 0.e-21*I]\n",
      "Eigenvectors:\n",
      "None\n",
      "None\n",
      "None\n",
      "None\n"
     ]
    }
   ],
   "source": [
    "import numpy as np\n",
    "from sympy import symbols, Eq, solve, Matrix, simplify\n",
    "\n",
    "class GetEigens:\n",
    "    def __init__(self):\n",
    "        self.EPSILON = 1e-10  # Threshold for floating-point precision\n",
    "\n",
    "    def calc_determinant(self, matrix):\n",
    "        sym_matrix = Matrix(matrix)\n",
    "        return sym_matrix.det()\n",
    "\n",
    "    def calc_eigenvalue(self, matrix):\n",
    "        y = symbols('y')\n",
    "        identity_matrix = np.eye(matrix.shape[0])\n",
    "        result = matrix - y * identity_matrix\n",
    "        determinant = self.calc_determinant(result)\n",
    "        equation = Eq(determinant, 0)\n",
    "        return solve(equation, y)\n",
    "\n",
    "    def calc_eigenvector(self, matrix, eigenvalues):\n",
    "        eigenvectors = []\n",
    "        for eigenvalue in eigenvalues:\n",
    "            # Shifted matrix (A - λI)\n",
    "            shifted_matrix = Matrix(matrix - eigenvalue * np.eye(matrix.shape[0]))\n",
    "\n",
    "            # Convert to symbolic for sympy's nullspace\n",
    "            symbolic_matrix = shifted_matrix.applyfunc(simplify)\n",
    "\n",
    "            # Compute null space\n",
    "            null_space = symbolic_matrix.nullspace()\n",
    "            if null_space:\n",
    "                # Normalize the first eigenvector in the null space\n",
    "                eigenvector = null_space[0]\n",
    "                eigenvectors.append(eigenvector / eigenvector.norm())\n",
    "            else:\n",
    "                eigenvectors.append(None)  # No eigenvector found\n",
    "        return eigenvectors\n",
    "\n",
    "    def main(self, matrix):\n",
    "        eigenvalues = self.calc_eigenvalue(matrix)\n",
    "        eigenvectors = self.calc_eigenvector(matrix, eigenvalues)\n",
    "        return eigenvalues, eigenvectors\n",
    "\n",
    "\n",
    "# Test the class\n",
    "covariance_matrix = np.array([\n",
    "    [4, 1, 2, 0],\n",
    "    [3, 5, 0, 1],\n",
    "    [2, 0, 6, 2],\n",
    "    [0, 1, 2, 7],\n",
    "])\n",
    "\n",
    "get_eigen = GetEigens()\n",
    "eigen_values, eigen_vectors = get_eigen.main(covariance_matrix)\n",
    "\n",
    "print(\"Eigenvalues:\", eigen_values)\n",
    "print(\"Eigenvectors:\")\n",
    "for vec in eigen_vectors:\n",
    "    print(vec)\n"
   ]
  },
  {
   "cell_type": "code",
   "execution_count": 6,
   "metadata": {},
   "outputs": [
    {
     "name": "stdout",
     "output_type": "stream",
     "text": [
      "Eigenvalues: []\n",
      "Eigenvectors:\n"
     ]
    }
   ],
   "source": [
    "import numpy as np\n",
    "\n",
    "def calculate_determinant(matrix):\n",
    "    \"\"\"\n",
    "    Calculate the determinant of a matrix recursively.\n",
    "    \"\"\"\n",
    "    n = len(matrix)\n",
    "    if n == 1:  # Base case for 1x1 matrix\n",
    "        return matrix[0, 0]\n",
    "    if n == 2:  # Base case for 2x2 matrix\n",
    "        return matrix[0, 0] * matrix[1, 1] - matrix[0, 1] * matrix[1, 0]\n",
    "\n",
    "    # Recursive case for larger matrices\n",
    "    determinant = 0\n",
    "    for col in range(n):\n",
    "        submatrix = np.delete(np.delete(matrix, 0, axis=0), col, axis=1)\n",
    "        determinant += ((-1) ** col) * matrix[0, col] * calculate_determinant(submatrix)\n",
    "    return determinant\n",
    "\n",
    "def find_eigenvalues(matrix):\n",
    "    \"\"\"\n",
    "    Find eigenvalues by solving the characteristic polynomial.\n",
    "    \"\"\"\n",
    "    n = len(matrix)\n",
    "    identity = np.eye(n)\n",
    "    eigenvalues = []\n",
    "    for guess in np.linspace(-10, 10, 1000):  # Brute-force guesses for eigenvalues\n",
    "        char_matrix = matrix - guess * identity\n",
    "        if np.isclose(calculate_determinant(char_matrix), 0, atol=1e-5):\n",
    "            if not any(np.isclose(guess, ev, atol=1e-3) for ev in eigenvalues):\n",
    "                eigenvalues.append(guess)\n",
    "    return eigenvalues\n",
    "\n",
    "def find_eigenvectors(matrix, eigenvalues):\n",
    "    \"\"\"\n",
    "    Find eigenvectors for each eigenvalue.\n",
    "    \"\"\"\n",
    "    n = len(matrix)\n",
    "    identity = np.eye(n)\n",
    "    eigenvectors = []\n",
    "\n",
    "    for eigenvalue in eigenvalues:\n",
    "        char_matrix = matrix - eigenvalue * identity\n",
    "        _, _, vh = np.linalg.svd(char_matrix)  # Null space via SVD\n",
    "        null_space_vector = vh[-1]  # Last row corresponds to the null space\n",
    "        eigenvectors.append(null_space_vector / np.linalg.norm(null_space_vector))\n",
    "    \n",
    "    return eigenvectors\n",
    "\n",
    "def calculate_eigen(matrix):\n",
    "    \"\"\"\n",
    "    Calculate eigenvalues and eigenvectors from scratch.\n",
    "    \"\"\"\n",
    "    matrix = np.array(matrix, dtype=float)\n",
    "    eigenvalues = find_eigenvalues(matrix)\n",
    "    eigenvectors = find_eigenvectors(matrix, eigenvalues)\n",
    "    return eigenvalues, eigenvectors\n",
    "\n",
    "# Example usage\n",
    "data = [\n",
    "  [1616.68365449, -349.54543245,  -22.06700932, -123.4582571 ],\n",
    " [-349.54543245,  746.91878758,   -8.56294962,  486.42037881],\n",
    " [ -22.06700932,   -8.56294962,    7.4999359,     6.32702599],\n",
    " [-123.4582571,   486.42037881,    6.32702599,  582.59459241],\n",
    "]\n",
    "\n",
    "eigenvalues, eigenvectors = calculate_eigen(data)\n",
    "\n",
    "print(\"Eigenvalues:\", eigenvalues)\n",
    "print(\"Eigenvectors:\")\n",
    "for vector in eigenvectors:\n",
    "    print(vector)\n"
   ]
  },
  {
   "cell_type": "code",
   "execution_count": 7,
   "metadata": {},
   "outputs": [
    {
     "data": {
      "text/plain": [
       "3.3333333333333335"
      ]
     },
     "execution_count": 7,
     "metadata": {},
     "output_type": "execute_result"
    }
   ],
   "source": [
    "10/3"
   ]
  },
  {
   "cell_type": "code",
   "execution_count": 8,
   "metadata": {},
   "outputs": [
    {
     "name": "stdout",
     "output_type": "stream",
     "text": [
      "The roots of the cubic equation are: [1, 2, 3]\n"
     ]
    }
   ],
   "source": [
    "from sympy import symbols, Eq, solve\n",
    "\n",
    "# Define the variable\n",
    "x = symbols('x')\n",
    "\n",
    "# Define the cubic equation\n",
    "equation = Eq(x**3 - 6*x**2 + 11*x - 6, 0)  # Example: x^3 - 6x^2 + 11x - 6 = 0\n",
    "\n",
    "# Solve the equation\n",
    "roots = solve(equation, x)\n",
    "\n",
    "print(\"The roots of the cubic equation are:\", roots)\n"
   ]
  },
  {
   "cell_type": "code",
   "execution_count": 9,
   "metadata": {},
   "outputs": [],
   "source": [
    "def calc_determinant(matrix,depth=0):\n",
    "    if matrix.shape ==(2,2):\n",
    "        print(\"good job\")\n",
    "        return matrix[0][0]*matrix[1][1] - matrix[0][1]*matrix[1][0]\n",
    "    else:# if the shape is (3,3) or higher\n",
    "        result=0\n",
    "        for i in range(len(matrix)):\n",
    "            helper = np.delete(matrix,i,axis=1)\n",
    "            helper = np.delete(helper,0,axis=0)\n",
    "            print((-1)**i *matrix[0][i],\" the depth is: \",depth)\n",
    "            result+= (-1)**i * matrix[0][i]*calc_determinant(helper,depth+1)\n",
    "        return result"
   ]
  },
  {
   "cell_type": "code",
   "execution_count": 10,
   "metadata": {},
   "outputs": [
    {
     "name": "stdout",
     "output_type": "stream",
     "text": [
      "1  the depth is:  0\n",
      "5  the depth is:  1\n",
      "good job\n",
      "0  the depth is:  1\n",
      "good job\n",
      "3  the depth is:  1\n",
      "good job\n",
      "0  the depth is:  0\n",
      "2  the depth is:  1\n",
      "good job\n",
      "0  the depth is:  1\n",
      "good job\n",
      "3  the depth is:  1\n",
      "good job\n",
      "4  the depth is:  0\n",
      "2  the depth is:  1\n",
      "good job\n",
      "-5  the depth is:  1\n",
      "good job\n",
      "3  the depth is:  1\n",
      "good job\n",
      "6  the depth is:  0\n",
      "2  the depth is:  1\n",
      "good job\n",
      "-5  the depth is:  1\n",
      "good job\n",
      "0  the depth is:  1\n",
      "good job\n"
     ]
    },
    {
     "data": {
      "text/plain": [
       "318"
      ]
     },
     "execution_count": 10,
     "metadata": {},
     "output_type": "execute_result"
    }
   ],
   "source": [
    "data =np.array([\n",
    "    [1,0,4,-6],\n",
    "    [2,5,0,3],\n",
    "    [-1,2,3,5],\n",
    "    [2,1,-2,3]\n",
    "])\n",
    "calc_determinant(data)"
   ]
  },
  {
   "cell_type": "code",
   "execution_count": null,
   "metadata": {},
   "outputs": [
    {
     "data": {
      "text/plain": [
       "(array([[1, 2, 3],\n",
       "        [5, 6, 3],\n",
       "        [5, 2, 1]]),\n",
       " array([[5, 6, 3],\n",
       "        [5, 2, 1]]))"
      ]
     },
     "execution_count": 11,
     "metadata": {},
     "output_type": "execute_result"
    }
   ],
   "source": [
    "\n",
    "temp= np.array([[1,2,3],\n",
    "                [5,6,3],\n",
    "                [5,2,1]])\n",
    "k = np.delete(temp,0,axis=0)\n",
    "# temp = np.delete(temp,1,axis=1)\n",
    "(temp,k)"
   ]
  },
  {
   "cell_type": "code",
   "execution_count": null,
   "metadata": {},
   "outputs": [
    {
     "ename": "SyntaxError",
     "evalue": "invalid syntax (3305703063.py, line 3)",
     "output_type": "error",
     "traceback": [
      "\u001b[1;36m  Cell \u001b[1;32mIn[12], line 3\u001b[1;36m\u001b[0m\n\u001b[1;33m    data.(x,10)\u001b[0m\n\u001b[1;37m         ^\u001b[0m\n\u001b[1;31mSyntaxError\u001b[0m\u001b[1;31m:\u001b[0m invalid syntax\n"
     ]
    }
   ],
   "source": [
    "x= symbols(\"x\")\n",
    "data = 3*x**2+50*4*x\n",
    "data.(x,10)"
   ]
  },
  {
   "cell_type": "code",
   "execution_count": 108,
   "metadata": {},
   "outputs": [
    {
     "data": {
      "text/plain": [
       "(3*x**2 + 200*x, 40)"
      ]
     },
     "execution_count": 108,
     "metadata": {},
     "output_type": "execute_result"
    }
   ],
   "source": [
    "x=40\n",
    "data,x"
   ]
  },
  {
   "cell_type": "code",
   "execution_count": 27,
   "metadata": {},
   "outputs": [
    {
     "data": {
      "text/latex": [
       "$\\displaystyle \\left[\\begin{matrix}0\\\\0\\end{matrix}\\right]$"
      ],
      "text/plain": [
       "Matrix([\n",
       "[0],\n",
       "[0]])"
      ]
     },
     "execution_count": 27,
     "metadata": {},
     "output_type": "execute_result"
    }
   ],
   "source": [
    "from sympy import symbols \n",
    "from sympy.matrices import Matrix\n",
    "b = Matrix([0,0])\n",
    "A.solve(b)"
   ]
  },
  {
   "cell_type": "code",
   "execution_count": 31,
   "metadata": {},
   "outputs": [
    {
     "data": {
      "text/plain": [
       "{x1: 0.0, x2: 0.0}"
      ]
     },
     "execution_count": 31,
     "metadata": {},
     "output_type": "execute_result"
    }
   ],
   "source": [
    "import sympy as sp\n",
    "\n",
    "# Define the matrix\n",
    "A = sp.Matrix([[-4/3,-4/3],[-4/3,-2/3]])\n",
    "\n",
    "# Define the vector\n",
    "x = sp.Matrix(sp.symbols('x1 x2'))\n",
    "\n",
    "# Define the equation A * x = 0\n",
    "eq = A * x\n",
    "\n",
    "# Solve the equation\n",
    "solution = sp.solve(eq, x)\n",
    "\n",
    "solution\n"
   ]
  },
  {
   "cell_type": "code",
   "execution_count": 49,
   "metadata": {},
   "outputs": [
    {
     "data": {
      "text/plain": [
       "{x1: -2.0*x2, x3: 0.0}"
      ]
     },
     "execution_count": 49,
     "metadata": {},
     "output_type": "execute_result"
    }
   ],
   "source": [
    "from sympy import Matrix, symbols ,solve\n",
    "\n",
    "# Define the matrix with rows that are the same but multiplied by some factor\n",
    "A = Matrix([\n",
    "[-2/3, -4/3, -2.0],\n",
    "[-4/3, -8/3, 1],\n",
    "[0, 0, 0]\n",
    "])\n",
    "\n",
    "\n",
    "# Define the vector\n",
    "x = Matrix(symbols('x1 x2 x3'))\n",
    "\n",
    "# Define the equation A * x = 0\n",
    "eq = A * x\n",
    "\n",
    "# Solve the equation for x\n",
    "solution = solve(eq, x)\n",
    "\n",
    "solution\n"
   ]
  },
  {
   "cell_type": "code",
   "execution_count": 22,
   "metadata": {},
   "outputs": [
    {
     "ename": "NonInvertibleMatrixError",
     "evalue": "Matrix det == 0; not invertible.",
     "output_type": "error",
     "traceback": [
      "\u001b[1;31m---------------------------------------------------------------------------\u001b[0m",
      "\u001b[1;31mNonInvertibleMatrixError\u001b[0m                  Traceback (most recent call last)",
      "File \u001b[1;32mc:\\ProgramData\\anaconda3\\Lib\\site-packages\\sympy\\matrices\\solvers.py:754\u001b[0m, in \u001b[0;36m_solve\u001b[1;34m(M, rhs, method)\u001b[0m\n\u001b[0;32m    753\u001b[0m     \u001b[38;5;28;01mif\u001b[39;00m param:\n\u001b[1;32m--> 754\u001b[0m         \u001b[38;5;28;01mraise\u001b[39;00m NonInvertibleMatrixError(\u001b[38;5;124m\"\u001b[39m\u001b[38;5;124mMatrix det == 0; not invertible. \u001b[39m\u001b[38;5;124m\"\u001b[39m\n\u001b[0;32m    755\u001b[0m         \u001b[38;5;124m\"\u001b[39m\u001b[38;5;124mTry ``M.gauss_jordan_solve(rhs)`` to obtain a parametric solution.\u001b[39m\u001b[38;5;124m\"\u001b[39m)\n\u001b[0;32m    757\u001b[0m \u001b[38;5;28;01mexcept\u001b[39;00m \u001b[38;5;167;01mValueError\u001b[39;00m:\n",
      "\u001b[1;31mNonInvertibleMatrixError\u001b[0m: Matrix det == 0; not invertible. Try ``M.gauss_jordan_solve(rhs)`` to obtain a parametric solution.",
      "\nDuring handling of the above exception, another exception occurred:\n",
      "\u001b[1;31mNonInvertibleMatrixError\u001b[0m                  Traceback (most recent call last)",
      "Cell \u001b[1;32mIn[22], line 14\u001b[0m\n\u001b[0;32m     11\u001b[0m b \u001b[38;5;241m=\u001b[39m Matrix([\u001b[38;5;241m14\u001b[39m, \u001b[38;5;241m32\u001b[39m, \u001b[38;5;241m50\u001b[39m])\n\u001b[0;32m     13\u001b[0m \u001b[38;5;66;03m# Solve the linear system using rref for general solutions\u001b[39;00m\n\u001b[1;32m---> 14\u001b[0m A\u001b[38;5;241m.\u001b[39msolve(b)\n",
      "File \u001b[1;32mc:\\ProgramData\\anaconda3\\Lib\\site-packages\\sympy\\matrices\\matrices.py:2144\u001b[0m, in \u001b[0;36mMatrixBase.solve\u001b[1;34m(self, rhs, method)\u001b[0m\n\u001b[0;32m   2143\u001b[0m \u001b[38;5;28;01mdef\u001b[39;00m \u001b[38;5;21msolve\u001b[39m(\u001b[38;5;28mself\u001b[39m, rhs, method\u001b[38;5;241m=\u001b[39m\u001b[38;5;124m'\u001b[39m\u001b[38;5;124mGJ\u001b[39m\u001b[38;5;124m'\u001b[39m):\n\u001b[1;32m-> 2144\u001b[0m     \u001b[38;5;28;01mreturn\u001b[39;00m _solve(\u001b[38;5;28mself\u001b[39m, rhs, method\u001b[38;5;241m=\u001b[39mmethod)\n",
      "File \u001b[1;32mc:\\ProgramData\\anaconda3\\Lib\\site-packages\\sympy\\matrices\\solvers.py:758\u001b[0m, in \u001b[0;36m_solve\u001b[1;34m(M, rhs, method)\u001b[0m\n\u001b[0;32m    754\u001b[0m             \u001b[38;5;28;01mraise\u001b[39;00m NonInvertibleMatrixError(\u001b[38;5;124m\"\u001b[39m\u001b[38;5;124mMatrix det == 0; not invertible. \u001b[39m\u001b[38;5;124m\"\u001b[39m\n\u001b[0;32m    755\u001b[0m             \u001b[38;5;124m\"\u001b[39m\u001b[38;5;124mTry ``M.gauss_jordan_solve(rhs)`` to obtain a parametric solution.\u001b[39m\u001b[38;5;124m\"\u001b[39m)\n\u001b[0;32m    757\u001b[0m     \u001b[38;5;28;01mexcept\u001b[39;00m \u001b[38;5;167;01mValueError\u001b[39;00m:\n\u001b[1;32m--> 758\u001b[0m         \u001b[38;5;28;01mraise\u001b[39;00m NonInvertibleMatrixError(\u001b[38;5;124m\"\u001b[39m\u001b[38;5;124mMatrix det == 0; not invertible.\u001b[39m\u001b[38;5;124m\"\u001b[39m)\n\u001b[0;32m    760\u001b[0m     \u001b[38;5;28;01mreturn\u001b[39;00m soln\n\u001b[0;32m    762\u001b[0m \u001b[38;5;28;01melif\u001b[39;00m method \u001b[38;5;241m==\u001b[39m \u001b[38;5;124m'\u001b[39m\u001b[38;5;124mLU\u001b[39m\u001b[38;5;124m'\u001b[39m:\n",
      "\u001b[1;31mNonInvertibleMatrixError\u001b[0m: Matrix det == 0; not invertible."
     ]
    }
   ],
   "source": [
    "from sympy import Matrix, symbols\n",
    "\n",
    "# Define the singular matrix of coefficients\n",
    "A = Matrix([\n",
    "    [1, 2, 3],\n",
    "    [4, 5, 6],\n",
    "    [7, 8, 9]\n",
    "])\n",
    "\n",
    "# Define the right-hand side vector\n",
    "b = Matrix([14, 32, 50])\n",
    "\n",
    "# Solve the linear system using rref for general solutions\n",
    "A.solve(b)\n"
   ]
  },
  {
   "cell_type": "code",
   "execution_count": 119,
   "metadata": {},
   "outputs": [
    {
     "data": {
      "text/plain": [
       "array([-0.23462496, -0.70171674, -0.23244323,  0.63128036])"
      ]
     },
     "execution_count": 119,
     "metadata": {},
     "output_type": "execute_result"
    }
   ],
   "source": [
    "A = np.array([\n",
    "   [ 1.,         -0.31809322, -0.20040206, -0.12721092],\n",
    " [-0.31809322,  1.,         -0.1144084,   0.73738083],\n",
    " [-0.20040206, -0.1144084,   1.,          0.09571668],\n",
    " [-0.12721092,  0.73738083,  0.09571668,  1.        ],\n",
    "])\n",
    "\n",
    "# Compute the null space of A\n",
    "_, _, vh = np.linalg.svd(A)\n",
    "null_space = vh[-1]  # The last row of V^H corresponds to the null space\n",
    "\n",
    "# Normalize the null space vector for better representation\n",
    "null_space_normalized = null_space / np.linalg.norm(null_space)\n",
    "\n",
    "null_space_normalized"
   ]
  },
  {
   "cell_type": "code",
   "execution_count": null,
   "metadata": {},
   "outputs": [],
   "source": []
  }
 ],
 "metadata": {
  "kernelspec": {
   "display_name": "base",
   "language": "python",
   "name": "python3"
  },
  "language_info": {
   "codemirror_mode": {
    "name": "ipython",
    "version": 3
   },
   "file_extension": ".py",
   "mimetype": "text/x-python",
   "name": "python",
   "nbconvert_exporter": "python",
   "pygments_lexer": "ipython3",
   "version": "3.11.7"
  }
 },
 "nbformat": 4,
 "nbformat_minor": 2
}
