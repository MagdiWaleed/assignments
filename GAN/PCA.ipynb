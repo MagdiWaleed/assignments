{
 "cells": [
  {
   "cell_type": "code",
   "execution_count": 72,
   "metadata": {},
   "outputs": [],
   "source": [
    "import numpy as np\n",
    "from copy import deepcopy\n",
    "from matplotlib import pyplot as plt\n",
    "import cv2 \n",
    "import os"
   ]
  },
  {
   "cell_type": "markdown",
   "metadata": {},
   "source": [
    "## Bulding PCA model"
   ]
  },
  {
   "cell_type": "code",
   "execution_count": 73,
   "metadata": {},
   "outputs": [],
   "source": [
    "class PCA:\n",
    "    def __init__(self, n_components=2):\n",
    "        self.n_components = n_components\n",
    "        self.components = None\n",
    "        self.covariance_matrix = None\n",
    "        self.mean = None\n",
    "        self.sd = None\n",
    "\n",
    "    def normalization(self,image):\n",
    "        temp = deepcopy(image)\n",
    "        mean = temp.mean(axis=0)\n",
    "        sd= temp.std(axis=0)\n",
    "        for row in range(len(temp)):\n",
    "            for column in range(len(temp[row])):\n",
    "                value = temp[row][column]\n",
    "                value = (value-mean[column])/sd[column]\n",
    "                temp[row][column]= value\n",
    "        self.mean= mean\n",
    "        self.sd = sd\n",
    "        return temp\n",
    "    \n",
    "    def calc_covariance(self,vector1,vector2) :\n",
    "        vec1 = deepcopy(vector1)\n",
    "        vec2 = deepcopy(vector2)\n",
    "        vec1_mean = vec1.mean()\n",
    "        vec2_mean = vec2.mean()\n",
    "        vec1 = vec1-vec1_mean\n",
    "        vec2 = vec2-vec2_mean\n",
    "        vec2 = vec2.T\n",
    "        return (np.dot(vec1,vec2)/len(vec1))\n",
    "\n",
    "    def covariance(self,image):\n",
    "        temp = deepcopy(image)\n",
    "        covariance_matrix= np.zeros((len(image[0]),len(image[0])))\n",
    "        temp =temp.T\n",
    "        for component1 in range(len(temp)):\n",
    "            for component2 in range(len(temp)):\n",
    "                variance =self.calc_covariance(temp[component1],temp[component2])\n",
    "                covariance_matrix[component1][component2]= variance\n",
    "        return covariance_matrix\n",
    "\n",
    "    def calc_eign(self,matrix):\n",
    "        eigen_values,eigen_vectors = np.linalg.eig(matrix)\n",
    "        return eigen_values,eigen_vectors\n",
    "\n",
    "\n",
    "    def fit(self,image):\n",
    "        normalized_img = self.normalization(image)\n",
    "        covariance_matrix = self.covariance(normalized_img)\n",
    "        self.covariance_matrix = covariance_matrix\n",
    "\n",
    "        eigen_values,eigen_vectors = self.calc_eign(covariance_matrix)   \n",
    "        indecis = np.argsort(eigen_values)[::-1]\n",
    "        self.components= eigen_vectors[indecis[:self.n_components]]\n",
    "    def transform(self,image):\n",
    "        new_image = np.dot(image,self.components.T)\n",
    "        return new_image\n",
    "    \n",
    "    def reverse(self,image):\n",
    "        revers = np.linalg.pinv(self.components)\n",
    "        return np.dot(image,revers.T)\n"
   ]
  },
  {
   "cell_type": "markdown",
   "metadata": {},
   "source": [
    "## PCA on one gray image"
   ]
  },
  {
   "cell_type": "markdown",
   "metadata": {},
   "source": [
    "### Helper Functions"
   ]
  },
  {
   "cell_type": "code",
   "execution_count": 75,
   "metadata": {},
   "outputs": [],
   "source": [
    "def readimage(path):\n",
    "        img =cv2.imread(path)\n",
    "        img = cv2.resize(img,(15,15))\n",
    "        img = cv2.cvtColor(img,cv2.COLOR_BGR2GRAY)\n",
    "        return img"
   ]
  },
  {
   "cell_type": "markdown",
   "metadata": {},
   "source": [
    "### Code"
   ]
  },
  {
   "cell_type": "code",
   "execution_count": 76,
   "metadata": {},
   "outputs": [
    {
     "data": {
      "text/plain": [
       "(15, 15)"
      ]
     },
     "execution_count": 76,
     "metadata": {},
     "output_type": "execute_result"
    }
   ],
   "source": [
    "image = readimage('data/test3.jpg')\n",
    "image.shape"
   ]
  },
  {
   "cell_type": "code",
   "execution_count": 77,
   "metadata": {},
   "outputs": [
    {
     "data": {
      "text/plain": [
       "<matplotlib.image.AxesImage at 0x260e6a35ed0>"
      ]
     },
     "execution_count": 77,
     "metadata": {},
     "output_type": "execute_result"
    },
    {
     "data": {
      "image/png": "[encoded data removed]",
      "text/plain": [
       "<Figure size 640x480 with 1 Axes>"
      ]
     },
     "metadata": {},
     "output_type": "display_data"
    }
   ],
   "source": [
    "pca = PCA(n_components=12)\n",
    "pca.fit(image)\n",
    "\n",
    "pca_image= pca.transform(image)\n",
    "pca_reverse = pca.reverse(pca_image) \n",
    "pca_reverse = np.real(pca_reverse)\n",
    "plt.imshow(pca_reverse,cmap=\"gray\")"
   ]
  },
  {
   "cell_type": "markdown",
   "metadata": {},
   "source": [
    "## PCA on Multi-Images"
   ]
  },
  {
   "cell_type": "markdown",
   "metadata": {},
   "source": [
    "### Helper Functions"
   ]
  },
  {
   "cell_type": "code",
   "execution_count": 78,
   "metadata": {},
   "outputs": [],
   "source": [
    "class Flatten():\n",
    "    def __init__(self,):\n",
    "        self.img_hight=0\n",
    "        self.img_width= 0\n",
    "    def flatten(self,images):\n",
    "        self.shape= np.array(images).shape\n",
    "        new_imgs = []\n",
    "        for image_num in range(len(images)):\n",
    "            new_imgs.append([])\n",
    "            for row_n,row in enumerate(images[image_num]):\n",
    "                if image_num==0:\n",
    "                    self.img_hight+=1\n",
    "                for column in row:\n",
    "                    # for rgb_channel in range(3):\n",
    "                    if row_n==0:     \n",
    "                        self.img_width+=1\n",
    "                        # self.rgb_channel_length+=1\n",
    "                    new_imgs[image_num].extend([column[0],column[1],column[2]])\n",
    "        # self.rgb_channel_length = (self.rgb_channel_length/len(new_imgs))/3\n",
    "        self.img_width=(self.img_width/len(new_imgs))\n",
    "        return np.array(new_imgs)\n",
    "    \n",
    "    def deflatten(self, imgs):\n",
    "        new_imgs = []\n",
    "        for img_num in range(len(imgs)):\n",
    "            rgb_img = []\n",
    "            for h in range(self.img_hight):\n",
    "                row = []\n",
    "                for w in range(int(self.img_width)):\n",
    "                    i = (h * int(self.img_width) + w) * 3\n",
    "                    # Reconstruct the RGB pixel from three consecutive values in the flattened array\n",
    "                    pixel = [imgs[img_num][i], imgs[img_num][i + 1], imgs[img_num][i + 2]]\n",
    "                    row.append(pixel)\n",
    "                rgb_img.append(row)\n",
    "            new_imgs.append(rgb_img)\n",
    "        return np.array(new_imgs)\n"
   ]
  },
  {
   "cell_type": "code",
   "execution_count": 79,
   "metadata": {},
   "outputs": [],
   "source": [
    "def readimage(path):\n",
    "        img =cv2.imread(path)\n",
    "        img = cv2.resize(img,(15,15))\n",
    "        img = cv2.cvtColor(img,cv2.COLOR_BGR2RGB)\n",
    "        return img"
   ]
  },
  {
   "cell_type": "code",
   "execution_count": 80,
   "metadata": {},
   "outputs": [],
   "source": [
    "def plot_images(images,type= \" \"):\n",
    "\n",
    "    num_images = len(images)\n",
    "    grid_size = int(num_images ** 0.5) + 1 \n",
    "\n",
    "    fig, axes = plt.subplots(grid_size, grid_size, figsize=(10, 10))\n",
    "\n",
    "    axes = axes.flatten()\n",
    "\n",
    "    for i, image in enumerate(images):\n",
    "        if type != \"gray\":\n",
    "            axes[i].imshow(image)\n",
    "        else:\n",
    "            temp = cv2.cvtColor(image, cv2.COLOR_BGR2GRAY)\n",
    "            axes[i].imshow(temp, cmap='gray')\n",
    "        axes[i].axis('off')\n",
    "        \n",
    "\n",
    "    for ax in axes[num_images:]:\n",
    "        ax.axis('off')\n",
    "\n",
    "    plt.tight_layout()  \n",
    "    plt.show()\n",
    "\n"
   ]
  },
  {
   "cell_type": "markdown",
   "metadata": {},
   "source": [
    "### Code"
   ]
  },
  {
   "cell_type": "code",
   "execution_count": 87,
   "metadata": {},
   "outputs": [
    {
     "data": {
      "text/plain": [
       "(6, 675)"
      ]
     },
     "execution_count": 87,
     "metadata": {},
     "output_type": "execute_result"
    }
   ],
   "source": [
    "pathes =os.listdir('data')\n",
    "images = np.array([readimage(os.path.join(\"data\",img)) for img in pathes])\n",
    "\n",
    "flatten = Flatten()\n",
    "flat_imgs = flatten.flatten(images)\n",
    "flat_imgs.shape"
   ]
  },
  {
   "cell_type": "code",
   "execution_count": 88,
   "metadata": {},
   "outputs": [],
   "source": [
    "pca = PCA(n_components=600)\n",
    "pca.fit(flat_imgs)"
   ]
  },
  {
   "cell_type": "code",
   "execution_count": 91,
   "metadata": {},
   "outputs": [
    {
     "name": "stderr",
     "output_type": "stream",
     "text": [
      "C:\\Users\\Magdi (Studying)\\AppData\\Local\\Temp\\ipykernel_33012\\2254222689.py:4: ComplexWarning: Casting complex values to real discards the imaginary part\n",
      "  pca_img_uint8 = new_imgs.astype(np.uint8)\n"
     ]
    }
   ],
   "source": [
    "pca_imgs=pca.transform(flat_imgs)\n",
    "reversed_imgs = pca.reverse(pca_imgs)\n",
    "new_imgs =flatten.deflatten(reversed_imgs)\n",
    "pca_img_uint8 = new_imgs.astype(np.uint8)\n"
   ]
  },
  {
   "cell_type": "code",
   "execution_count": 94,
   "metadata": {},
   "outputs": [
    {
     "data": {
      "image/png": "[encoded data removed]",
      "text/plain": [
       "<Figure size 1000x1000 with 9 Axes>"
      ]
     },
     "metadata": {},
     "output_type": "display_data"
    },
    {
     "data": {
      "image/png": "[encoded data removed]",
      "text/plain": [
       "<Figure size 1000x1000 with 9 Axes>"
      ]
     },
     "metadata": {},
     "output_type": "display_data"
    }
   ],
   "source": [
    "plot_images(images)\n",
    "plot_images(pca_img_uint8)\n"
   ]
  },
  {
   "cell_type": "code",
   "execution_count": null,
   "metadata": {},
   "outputs": [],
   "source": []
  }
 ],
 "metadata": {
  "kernelspec": {
   "display_name": "base",
   "language": "python",
   "name": "python3"
  },
  "language_info": {
   "codemirror_mode": {
    "name": "ipython",
    "version": 3
   },
   "file_extension": ".py",
   "mimetype": "text/x-python",
   "name": "python",
   "nbconvert_exporter": "python",
   "pygments_lexer": "ipython3",
   "version": "3.11.7"
  }
 },
 "nbformat": 4,
 "nbformat_minor": 2
}
